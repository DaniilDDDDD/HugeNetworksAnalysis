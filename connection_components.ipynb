{
 "cells": [
  {
   "cell_type": "code",
   "execution_count": 1,
   "metadata": {},
   "outputs": [],
   "source": [
    "import csv\n",
    "\n",
    "def parse_txt(filename, oriented=True):\n",
    "    \"\"\"\n",
    "    Parse data from txt file into dict python type.\n",
    "    JSON serializable.\n",
    "    \"\"\"\n",
    "    data = {}\n",
    "    with open(filename) as file:\n",
    "        \n",
    "        line = file.readline()\n",
    "        while line:\n",
    "            \n",
    "            # skip comments\n",
    "            if line[0] == '#':\n",
    "                line = file.readline()\n",
    "                continue\n",
    "            \n",
    "            parent, child = line.split()\n",
    "            \n",
    "            parent = int(parent)\n",
    "            child = int(child)\n",
    "            \n",
    "            # rows in data file can be duplicated\n",
    "            if parent in data:\n",
    "                if child not in data[parent]['linked']:\n",
    "                    data[parent]['linked'].append(child)\n",
    "                    data[parent]['degree'] += 1\n",
    "            else:\n",
    "                data[parent] = { \n",
    "                    'linked': [child],\n",
    "                    'degree': 1,\n",
    "                }\n",
    "                \n",
    "            if oriented:\n",
    "                if child not in data:\n",
    "                    data[child] = { \n",
    "                    'linked': [],\n",
    "                    'degree': 0,\n",
    "                }\n",
    "                \n",
    "            else:\n",
    "                if child in data:\n",
    "                    if parent not in data[child]['linked']:\n",
    "                        data[child]['linked'].append(parent)\n",
    "                        data[child]['degree'] += 1\n",
    "\n",
    "                else:    \n",
    "                    data[child] = {\n",
    "                        'linked': [parent],\n",
    "                        'degree': 1,\n",
    "                    }\n",
    "\n",
    "            line = file.readline()\n",
    "\n",
    "    return data\n",
    "\n",
    "def parse_csv(filename, oriented=True):\n",
    "    data = {}\n",
    "    \n",
    "    with open(filename) as file:\n",
    "        reader = csv.reader(file)\n",
    "        next(reader)\n",
    "        \n",
    "        for row in reader:\n",
    "            \n",
    "            parent = int(row[0])\n",
    "            child = int(row[1])\n",
    "            \n",
    "            if parent in data:\n",
    "                if child not in data[parent]['linked']:\n",
    "                    data[parent]['linked'].append(child)\n",
    "                    data[parent]['degree'] += 1\n",
    "            else:\n",
    "                data[parent] = { \n",
    "                    'linked': [child],\n",
    "                    'distances': {},\n",
    "                    'degree': 1,\n",
    "                    'centrality': 0,\n",
    "                    'marked': False,\n",
    "                    'active': True\n",
    "                }\n",
    "                \n",
    "            if oriented:\n",
    "                if child not in data:\n",
    "                    data[child] = { \n",
    "                    'linked': [],\n",
    "                    'distances': {},\n",
    "                    'degree': 1,\n",
    "                    'centrality': 0,\n",
    "                    'marked': False,\n",
    "                    'active': True\n",
    "                }\n",
    "                \n",
    "            else:\n",
    "                if child in data:\n",
    "                    if parent not in data[child]['linked']:\n",
    "                        data[child]['linked'].append(parent)\n",
    "                        data[child]['degree'] += 1\n",
    "\n",
    "                else:    \n",
    "                    data[child] = {\n",
    "                        'linked': [parent],\n",
    "                        'distances': {},\n",
    "                        'degree': 1,\n",
    "                        'centrality': 0,\n",
    "                        'marked': False,\n",
    "                        'active': True\n",
    "                    }\n",
    "                    \n",
    "    return data\n",
    "\n",
    "def parse(filename, oriented=True):\n",
    "    if filename.split('.')[-1] == 'txt':\n",
    "        return parse_txt(filename, oriented)\n",
    "    elif filename.split('.')[-1] == 'csv':\n",
    "        return parse_csv(filename, oriented)"
   ]
  },
  {
   "cell_type": "code",
   "execution_count": 2,
   "metadata": {},
   "outputs": [],
   "source": [
    "import copy"
   ]
  },
  {
   "cell_type": "code",
   "execution_count": 3,
   "metadata": {},
   "outputs": [],
   "source": [
    "FILENAME = 'web-Google.txt'\n",
    "#FILENAME = 'CA-AstroPh.txt'\n",
    "#FILENAME = 'test.txt'\n",
    "ORIENTED = True\n"
   ]
  },
  {
   "cell_type": "code",
   "execution_count": 4,
   "metadata": {},
   "outputs": [],
   "source": [
    "data = parse(FILENAME, ORIENTED)\n",
    "#print(data)"
   ]
  },
  {
   "cell_type": "code",
   "execution_count": 5,
   "metadata": {},
   "outputs": [
    {
     "name": "stdout",
     "output_type": "stream",
     "text": [
      "Number of vertices in web-Google.txt: 875713\n",
      "Number of edges in web-Google.txt: 5105039\n",
      "Number of edges in complete graph: 383436191328.0\n",
      "Density: 1.3313920583028727e-05\n"
     ]
    }
   ],
   "source": [
    "def count_vertices(graph):\n",
    "    return len(graph)\n",
    "\n",
    "def count_edges(graph,oriented = False):\n",
    "    edges = 0\n",
    "    for item in graph.values():\n",
    "        edges += item['degree']\n",
    "    if oriented:\n",
    "        return edges\n",
    "    return edges / 2\n",
    "\n",
    "vertices = count_vertices(data)\n",
    "edges = count_edges(data,ORIENTED)\n",
    "complete_graph_edges = vertices * (vertices - 1) / 2\n",
    "\n",
    "print(f'Number of vertices in {FILENAME}: {vertices}')\n",
    "print(f'Number of edges in {FILENAME}: {edges}')\n",
    "print(f'Number of edges in complete graph: {complete_graph_edges}')\n",
    "print(f'Density: {edges / complete_graph_edges}')"
   ]
  },
  {
   "cell_type": "code",
   "execution_count": 6,
   "metadata": {
    "scrolled": true
   },
   "outputs": [],
   "source": [
    "def components_iterative(graph):\n",
    "    identified = set()\n",
    "    stack = []\n",
    "    index = {}\n",
    "    boundaries = []\n",
    "\n",
    "    for v in graph.keys():\n",
    "        if v not in index:\n",
    "            to_do = [('VISIT', v)]\n",
    "            \n",
    "            while to_do:\n",
    "                operation_type, v = to_do.pop()\n",
    "                if operation_type == 'VISIT':\n",
    "                    index[v] = len(stack)\n",
    "                    stack.append(v)\n",
    "                    boundaries.append(index[v])\n",
    "                    to_do.append(('POSTVISIT', v))\n",
    "                    to_do.extend(\n",
    "                        reversed([('VISITEDGE', w) for w in graph[v]['linked']]))\n",
    "                elif operation_type == 'VISITEDGE':\n",
    "                    if v not in index:\n",
    "                        to_do.append(('VISIT', v))\n",
    "                    elif v not in identified:\n",
    "                        while index[v] < boundaries[-1]:\n",
    "                            boundaries.pop()\n",
    "                else:\n",
    "                    if boundaries[-1] == index[v]:\n",
    "                        boundaries.pop()\n",
    "                        scc = set(stack[index[v]:])\n",
    "                        del stack[index[v]:]\n",
    "                        identified.update(scc)\n",
    "                        yield scc\n",
    "                        \n",
    "def make_unoriented(graph):\n",
    "    result = dict.fromkeys(graph.keys(),{})\n",
    "    for key in graph.keys():\n",
    "        result[key] = graph[key]\n",
    "    for key in result.keys():\n",
    "        for vertex in graph[key]['linked']:\n",
    "            if key not in result[vertex]['linked'] and key != vertex:\n",
    "                result[vertex]['linked'].append(key)\n",
    "                result[vertex]['degree'] += 1\n",
    "    return result\n",
    "    \n",
    "def get_max_strong_connectivity_component_size(components):\n",
    "    maximum = 0\n",
    "    for item in components:\n",
    "        if len(item) > maximum:\n",
    "            maximum = len(item)\n",
    "    return maximum\n",
    "    "
   ]
  },
  {
   "cell_type": "code",
   "execution_count": 7,
   "metadata": {},
   "outputs": [
    {
     "name": "stdout",
     "output_type": "stream",
     "text": [
      "855802\n",
      "Number of weak connectivity components in web-Google.txt: 2746\n",
      "Proportion of vertices in max weak connectivity component: 0.9772630987549574\n"
     ]
    }
   ],
   "source": [
    "comps = []\n",
    "for comp in components_iterative(make_unoriented(copy.deepcopy(data))):\n",
    "    comps.append(comp)\n",
    "    \n",
    "max_weak_connectivity_component = []\n",
    "for component in comps:\n",
    "    if len(component) > len(max_weak_connectivity_component):\n",
    "        max_weak_connectivity_component = component\n",
    "        \n",
    "max_weak_connectivity_component_size = len(max_weak_connectivity_component)\n",
    "#print(weak_connectivity_components)\n",
    "print(max_weak_connectivity_component_size)\n",
    "print(f'Number of weak connectivity components in {FILENAME}: {len(comps)}')\n",
    "print(f'Proportion of vertices in max weak connectivity component: {max_weak_connectivity_component_size/vertices}')"
   ]
  },
  {
   "cell_type": "code",
   "execution_count": 8,
   "metadata": {
    "scrolled": true
   },
   "outputs": [
    {
     "name": "stdout",
     "output_type": "stream",
     "text": [
      "Number of strong connectivity components in web-Google.txt: 371764\n",
      "Proportion of vertices in max strong connectivity component: 0.49653025591717836\n",
      "Max strong connectivity component size: 434818\n"
     ]
    }
   ],
   "source": [
    "sccs = []\n",
    "if ORIENTED:\n",
    "    for scc in components_iterative(copy.deepcopy(data)):\n",
    "        sccs.append(scc)\n",
    "    #print(sccs)\n",
    "    max_strong_connectivity_component_size = get_max_strong_connectivity_component_size(sccs)\n",
    "    print(f'Number of strong connectivity components in {FILENAME}: {len(sccs)}')\n",
    "    print(f'Proportion of vertices in max strong connectivity component: {max_strong_connectivity_component_size/vertices}')\n",
    "    print(f'Max strong connectivity component size: {max_strong_connectivity_component_size}')"
   ]
  },
  {
   "cell_type": "code",
   "execution_count": 10,
   "metadata": {
    "scrolled": true
   },
   "outputs": [],
   "source": [
    "if ORIENTED:\n",
    "    meta_graph = {}\n",
    "    \n",
    "    vertice_component = {}\n",
    "    for i in range(len(sccs)):\n",
    "        meta_graph[i] = set()\n",
    "        for v in sccs[i]:\n",
    "            vertice_component[v] = i\n",
    "    \n",
    "    for v1 in data.keys():\n",
    "        for v2 in data[v1]['linked']:\n",
    "            comp1 = vertice_component[v1]\n",
    "            comp2 = vertice_component[v2]\n",
    "            if comp1 != comp2:\n",
    "                meta_graph[comp1].add(comp2)\n",
    "    \n",
    "    output_file = open('meta-graph2.txt', 'w')\n",
    "    output_file.write(str(len(sccs)) + '\\n')\n",
    "    for i in range(len(sccs)):\n",
    "        output_file.write(str(i) + ' ')\n",
    "        output_file.write(' '.join([str(v) for v in sccs[i]]))\n",
    "        output_file.write('\\n')\n",
    "    \n",
    "    for v1 in meta_graph.keys():\n",
    "        for v2 in meta_graph[v1]:\n",
    "            output_file.write(str(v1) + ' ' + str(v2) + '\\n')\n",
    "    \n",
    "    output_file.close()"
   ]
  },
  {
   "cell_type": "code",
   "execution_count": 24,
   "metadata": {},
   "outputs": [],
   "source": [
    "def fill_component(component,data):\n",
    "    result = {}\n",
    "    for node in component:\n",
    "        result[node] = data[node]\n",
    "    for key,values in result.items():\n",
    "        for value in values['linked']:\n",
    "            if value not in component:\n",
    "                result[key]['linked'] = [x for x in result[key] if x != value]\n",
    "    return result\n",
    "        \n",
    "filled_component = fill_component(max_weak_connectivity_component,make_unoriented(data))"
   ]
  },
  {
   "cell_type": "code",
   "execution_count": 25,
   "metadata": {},
   "outputs": [],
   "source": [
    "from collections import deque\n",
    "import random \n",
    "\n",
    "def shortest_path(graph, source, vertices):\n",
    "    unvisited_vertices = set(vertices)\n",
    "    unvisited_vertices.discard(source)\n",
    "    lengths = {source: 0}\n",
    "    queue = deque([(source,0)])\n",
    "    while unvisited_vertices:\n",
    "        v, length = queue.popleft()\n",
    "        for n in graph[v]['linked']:\n",
    "            if n not in lengths:\n",
    "                queue.append((n, length+1))\n",
    "                lengths[n] = length+1\n",
    "                unvisited_vertices.discard(n)\n",
    "    return {v: lengths[v] for v in vertices}\n",
    "            \n",
    "def distances(graph, number_of_verticies):\n",
    "    keys = [x for x in graph.keys()]\n",
    "    random.shuffle(keys)\n",
    "    random_keys = keys[0:number_of_verticies]\n",
    "    distances = {}\n",
    "    for i in random_keys:\n",
    "        distances[i] = shortest_path(graph,i,random_keys)\n",
    "    return distances\n",
    "\n",
    "distances = distances(filled_component,500)\n",
    "#print(distances)"
   ]
  },
  {
   "cell_type": "code",
   "execution_count": 26,
   "metadata": {},
   "outputs": [
    {
     "name": "stdout",
     "output_type": "stream",
     "text": [
      "diameter: 20\n",
      "raidus: 11\n",
      "90 percentile: 9\n"
     ]
    }
   ],
   "source": [
    "import math\n",
    "\n",
    "def get_diameter(distances):\n",
    "    diameter = 0\n",
    "    for key, values in distances.items():\n",
    "        for node, distance in values.items():\n",
    "            if distance > diameter:\n",
    "                diameter = distance\n",
    "    return diameter\n",
    "\n",
    "def get_radius(distances):\n",
    "    radius = 1000000000000000\n",
    "    for key, values in distances.items():\n",
    "        e = 0\n",
    "        for node, distance in values.items():\n",
    "            if distance > e:\n",
    "                e = distance\n",
    "        if radius > e:\n",
    "            radius = e\n",
    "    return radius\n",
    "\n",
    "def get_r_percentile(distances,r):\n",
    "    d = []\n",
    "    for key, values in distances.items():\n",
    "        for node, distance in values.items():\n",
    "            d.append(distance)\n",
    "    d.sort()\n",
    "    return d[math.ceil(len(d)*r/100)]\n",
    "\n",
    "print(f\"diameter: {get_diameter(distances)}\")\n",
    "print(f\"raidus: {get_radius(distances)}\")\n",
    "print(f\"90 percentile: {get_r_percentile(distances,90)}\")"
   ]
  },
  {
   "cell_type": "code",
   "execution_count": null,
   "metadata": {
    "scrolled": true
   },
   "outputs": [
    {
     "name": "stdout",
     "output_type": "stream",
     "text": [
      "Requirement already satisfied: matplotlib in c:\\users\\mytht\\appdata\\local\\programs\\python\\python39\\lib\\site-packages (3.5.2)\n",
      "Requirement already satisfied: python-dateutil>=2.7 in c:\\users\\mytht\\appdata\\local\\programs\\python\\python39\\lib\\site-packages (from matplotlib) (2.8.2)\n",
      "Requirement already satisfied: fonttools>=4.22.0 in c:\\users\\mytht\\appdata\\local\\programs\\python\\python39\\lib\\site-packages (from matplotlib) (4.33.3)\n",
      "Requirement already satisfied: kiwisolver>=1.0.1 in c:\\users\\mytht\\appdata\\local\\programs\\python\\python39\\lib\\site-packages (from matplotlib) (1.4.2)\n",
      "Requirement already satisfied: pyparsing>=2.2.1 in c:\\users\\mytht\\appdata\\local\\programs\\python\\python39\\lib\\site-packages (from matplotlib) (3.0.9)\n",
      "Requirement already satisfied: cycler>=0.10 in c:\\users\\mytht\\appdata\\local\\programs\\python\\python39\\lib\\site-packages (from matplotlib) (0.11.0)\n",
      "Requirement already satisfied: pillow>=6.2.0 in c:\\users\\mytht\\appdata\\local\\programs\\python\\python39\\lib\\site-packages (from matplotlib) (9.1.1)\n",
      "Requirement already satisfied: packaging>=20.0 in c:\\users\\mytht\\appdata\\local\\programs\\python\\python39\\lib\\site-packages (from matplotlib) (21.3)\n",
      "Requirement already satisfied: numpy>=1.17 in c:\\users\\mytht\\appdata\\local\\programs\\python\\python39\\lib\\site-packages (from matplotlib) (1.22.4)\n",
      "Requirement already satisfied: six>=1.5 in c:\\users\\mytht\\appdata\\local\\programs\\python\\python39\\lib\\site-packages (from python-dateutil>=2.7->matplotlib) (1.16.0)\n"
     ]
    },
    {
     "name": "stderr",
     "output_type": "stream",
     "text": [
      "WARNING: You are using pip version 22.0.4; however, version 22.1.1 is available.\n",
      "You should consider upgrading via the 'C:\\Users\\mytht\\AppData\\Local\\Programs\\Python\\Python39\\python.exe -m pip install --upgrade pip' command.\n"
     ]
    }
   ],
   "source": [
    "#!pip install seaborn\n",
    "!pip install matplotlib"
   ]
  },
  {
   "cell_type": "code",
   "execution_count": 27,
   "metadata": {},
   "outputs": [
    {
     "name": "stdout",
     "output_type": "stream",
     "text": [
      "Minimum degree: 1\n",
      "Maximum degree: 6332\n",
      "Average degree: 9.870930316210904\n"
     ]
    }
   ],
   "source": [
    "import matplotlib.pyplot as plt\n",
    "import math \n",
    "\n",
    "def get_degrees(graph):\n",
    "    min_degree = 100000000000000\n",
    "    max_degree = 0\n",
    "    avg_degree = 0\n",
    "    for vertex in graph.values():\n",
    "        if vertex['degree'] > max_degree:\n",
    "            max_degree = vertex['degree']\n",
    "        if vertex['degree'] < min_degree:\n",
    "            min_degree = vertex['degree']\n",
    "        avg_degree += vertex['degree']\n",
    "    return (min_degree,max_degree,avg_degree / len(graph.keys()))\n",
    "\n",
    "[min_degree,max_degree,avg_degree] = get_degrees(data)\n",
    "print(f'Minimum degree: {min_degree}')\n",
    "print(f'Maximum degree: {max_degree}')\n",
    "print(f'Average degree: {avg_degree}')\n",
    "\n",
    "def get_distribution(graph,degrees):\n",
    "    \n",
    "    degree_sum = 0\n",
    "    for value in graph.values():\n",
    "        degrees[value['degree']] += 1\n",
    "        degree_sum += value['degree']\n",
    "    for key in degrees.keys():\n",
    "        degrees[key] /= degree_sum\n",
    "    return degrees\n",
    "    \n",
    "def get_log_log(distribution):\n",
    "    res = {}\n",
    "    for key,value in distribution.items():\n",
    "        res[f'{math.log10(key+1)}'] = math.log10(value+1)\n",
    "    return res\n",
    "    \n",
    "distribution = get_distribution(data,dict.fromkeys(list(range(min_degree,max_degree+1)),0))\n",
    "log_distribution = get_log_log(distribution)"
   ]
  },
  {
   "cell_type": "code",
   "execution_count": 31,
   "metadata": {},
   "outputs": [
    {
     "data": {
      "image/png": "[encoded data removed]",
      "text/plain": [
       "<Figure size 432x288 with 1 Axes>"
      ]
     },
     "metadata": {
      "needs_background": "light"
     },
     "output_type": "display_data"
    }
   ],
   "source": [
    "#sns.histplot(data=list(distribution.values()),bins=30)\n",
    "plt.bar(distribution.keys(), distribution.values())\n",
    "  \n",
    "# naming the x axis\n",
    "plt.xlabel('Степень вершины')\n",
    "# naming the y axis\n",
    "plt.ylabel('Вероятность')\n",
    "# giving a title to my graph\n",
    "plt.title('Функция вероятности')\n",
    "plt.ylim(top=0.0002)\n",
    "# function to show the plot\n",
    "plt.show()"
   ]
  },
  {
   "cell_type": "code",
   "execution_count": 32,
   "metadata": {},
   "outputs": [
    {
     "data": {
      "image/png": "[encoded data removed]",
      "text/plain": [
       "<Figure size 432x288 with 1 Axes>"
      ]
     },
     "metadata": {
      "needs_background": "light"
     },
     "output_type": "display_data"
    }
   ],
   "source": [
    "#sns.histplot(distribution,log_scale=True)\n",
    "plt.bar(distribution.keys(), distribution.values())\n",
    "  \n",
    "# naming the x axis\n",
    "plt.xlabel('Степень вершины')\n",
    "# naming the y axis\n",
    "plt.ylabel('Вероятность')\n",
    "plt.xscale('log')\n",
    "plt.yscale('log')  \n",
    "# giving a title to my graph\n",
    "plt.title('Функция вероятности в log-log шкале')\n",
    "  \n",
    "# function to show the plot\n",
    "plt.show()"
   ]
  },
  {
   "cell_type": "code",
   "execution_count": null,
   "metadata": {},
   "outputs": [],
   "source": []
  },
  {
   "cell_type": "code",
   "execution_count": null,
   "metadata": {},
   "outputs": [],
   "source": []
  },
  {
   "cell_type": "code",
   "execution_count": null,
   "metadata": {},
   "outputs": [],
   "source": []
  },
  {
   "cell_type": "code",
   "execution_count": null,
   "metadata": {},
   "outputs": [],
   "source": []
  },
  {
   "cell_type": "code",
   "execution_count": null,
   "metadata": {},
   "outputs": [],
   "source": []
  },
  {
   "cell_type": "code",
   "execution_count": null,
   "metadata": {},
   "outputs": [],
   "source": []
  },
  {
   "cell_type": "code",
   "execution_count": null,
   "metadata": {},
   "outputs": [],
   "source": []
  },
  {
   "cell_type": "code",
   "execution_count": null,
   "metadata": {},
   "outputs": [],
   "source": []
  },
  {
   "cell_type": "code",
   "execution_count": null,
   "metadata": {},
   "outputs": [],
   "source": []
  },
  {
   "cell_type": "code",
   "execution_count": null,
   "metadata": {},
   "outputs": [],
   "source": []
  },
  {
   "cell_type": "code",
   "execution_count": null,
   "metadata": {},
   "outputs": [],
   "source": []
  }
 ],
 "metadata": {
  "interpreter": {
   "hash": "ffbe642db6ffb7edc22913ab1bdf1ed66fb88f608b9b2c8608b05ee733d9727b"
  },
  "kernelspec": {
   "display_name": "Python 3 (ipykernel)",
   "language": "python",
   "name": "python3"
  },
  "language_info": {
   "codemirror_mode": {
    "name": "ipython",
    "version": 3
   },
   "file_extension": ".py",
   "mimetype": "text/x-python",
   "name": "python",
   "nbconvert_exporter": "python",
   "pygments_lexer": "ipython3",
   "version": "3.9.12"
  }
 },
 "nbformat": 4,
 "nbformat_minor": 2
}
