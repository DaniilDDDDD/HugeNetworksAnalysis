{
 "cells": [
  {
   "cell_type": "markdown",
   "id": "3d456889",
   "metadata": {},
   "source": [
    "# Parse dataset into dict"
   ]
  },
  {
   "cell_type": "code",
   "execution_count": 8,
   "id": "bd57895d",
   "metadata": {},
   "outputs": [],
   "source": [
    "def parse_txt(filename, oriented=True):\n",
    "    '''\n",
    "    Via sets, but it is not JSON serializable\n",
    "    '''\n",
    "    data = {}\n",
    "    with open(filename) as file:\n",
    "        \n",
    "        line = file.readline()\n",
    "        while line:\n",
    "            \n",
    "            # skip comments\n",
    "            if line[0] == '#':\n",
    "                line = file.readline()\n",
    "                continue\n",
    "            \n",
    "            parent, child = line.split()\n",
    "            parent = int(parent)\n",
    "            child = int(child)\n",
    "            \n",
    "            # rows in data file can be duplicated\n",
    "            if parent in data:\n",
    "                data[parent]['linked'].add(child)\n",
    "                data[parent]['degree'] += 1\n",
    "            else:\n",
    "                data[parent] = {\n",
    "                    'linked': {child},\n",
    "                    'degree': 1,\n",
    "                    'marked': False,\n",
    "                    'centrality': 0\n",
    "                }\n",
    "            \n",
    "            # add reversed link on parent vertice for not oriented graph\n",
    "            if not oriented:\n",
    "                if child in data:\n",
    "                    data[child]['linked'].add(parent)\n",
    "                    data[child]['degree'] += 1\n",
    "                else:\n",
    "                    data[child] = {\n",
    "                        'linked': {parent},\n",
    "                        'degree': 1,\n",
    "                        'marked': False,\n",
    "                        'centrality': 0\n",
    "                    }\n",
    "\n",
    "            line = file.readline()\n",
    "            \n",
    "    return data\n",
    "\n",
    "\n",
    "def parse(filename, oriented=True):\n",
    "    if filename.split('.')[-1] == 'txt':\n",
    "        return parse_txt(filename, oriented)"
   ]
  },
  {
   "cell_type": "code",
   "execution_count": 1,
   "id": "b3d02505",
   "metadata": {},
   "outputs": [],
   "source": [
    "def parse_txt(filename, oriented=True):\n",
    "    '''\n",
    "    Via lists\n",
    "    '''\n",
    "    data = {}\n",
    "    with open(filename) as file:\n",
    "        \n",
    "        line = file.readline()\n",
    "        while line:\n",
    "            \n",
    "            # skip comments\n",
    "            if line[0] == '#':\n",
    "                line = file.readline()\n",
    "                continue\n",
    "            \n",
    "            parent, child = line.split()\n",
    "            parent = int(parent)\n",
    "            child = int(child)\n",
    "            \n",
    "            # rows in data file can be duplicated\n",
    "            if parent in data:\n",
    "                if child not in data[parent]['linked']:\n",
    "                    data[parent]['linked'].append(child)\n",
    "                    data[parent]['degree'] += 1\n",
    "            else:\n",
    "                data[parent] = { \n",
    "                    'linked': [child],\n",
    "                    'distances': {},\n",
    "                    'degree': 1,\n",
    "                    'marked': False,\n",
    "                    'centrality': 0\n",
    "                }\n",
    "                \n",
    "            if not oriented:\n",
    "                if child in data:\n",
    "                    if parent not in data[child]['linked']:\n",
    "                        data[child]['linked'].append(parent)\n",
    "                        data[child]['degree'] += 1\n",
    "\n",
    "                else:    \n",
    "                    data[child] = {\n",
    "                        'linked': [parent],\n",
    "                        'distances': {},\n",
    "                        'degree': 1,\n",
    "                        'marked': False,\n",
    "                        'centrality': 0\n",
    "                    }\n",
    "\n",
    "            line = file.readline()\n",
    "            \n",
    "    return data\n",
    "def parse(filename, oriented=True):\n",
    "    if filename.split('.')[-1] == 'txt':\n",
    "        return parse_txt(filename, oriented)"
   ]
  },
  {
   "cell_type": "code",
   "execution_count": 2,
   "id": "ab055767",
   "metadata": {},
   "outputs": [],
   "source": [
    "from collections import deque \n",
    "\n",
    "def count_distance(vertice, data):\n",
    "    '''\n",
    "    counts distances form given vertice to all other in connectivity component that vertice belongs to\n",
    "    based on BFS\n",
    "    vertice: index of source vertice\n",
    "    data: dict with information about graph\n",
    "    '''\n",
    "    current_distance = 0\n",
    "    centrality = 0\n",
    "    vertices_number = 1\n",
    "    d0 = deque()\n",
    "    d1 = deque()\n",
    "    \n",
    "    d0.append(vertice)\n",
    "    data[vertice]['marked'] = True\n",
    "    \n",
    "    while True:\n",
    "        \n",
    "        if not d0 and not d1:\n",
    "            break\n",
    "        \n",
    "        if current_distance % 2 == 0:\n",
    "            \n",
    "            v = d0.pop()\n",
    "            \n",
    "            data[v]['distances'][vertice] = current_distance\n",
    "            vertices_number += 1\n",
    "            centrality += current_distance\n",
    "                \n",
    "            for i in data[v]['linked']:\n",
    "                if not data[i]['marked']:\n",
    "                    d1.append(i)\n",
    "                    data[i]['marked'] = True\n",
    "            \n",
    "            if not d0:\n",
    "                current_distance += 1\n",
    "                \n",
    "        else:\n",
    "            \n",
    "            v = d1.pop()\n",
    "\n",
    "            data[v]['distances'][vertice] = current_distance\n",
    "            vertices_number += 1\n",
    "            centrality += current_distance\n",
    "                \n",
    "            for i in data[v]['linked']:\n",
    "                if not data[i]['marked']:\n",
    "                    d0.append(i)\n",
    "                    data[i]['marked'] = True\n",
    "            \n",
    "            if not d1:\n",
    "                current_distance += 1\n",
    "\n",
    "        \n",
    "    for key, value in data.items():\n",
    "        value['marked'] = False\n",
    "    \n",
    "    data[vertice]['centrality'] = centrality / vertices_number\n",
    "\n",
    "    \n",
    "def count_distances(data):\n",
    "    \"\"\"\n",
    "    Counts distances between all nodes in graph.\n",
    "    \"\"\"\n",
    "    for key, value in data.items():\n",
    "        count_distance(key, data)\n",
    "        \n",
    "\n",
    "def bfs(source, stock, data):\n",
    "    '''\n",
    "    Count distance from source to stock without using landmarks.\n",
    "    '''\n",
    "    current_distance = 0\n",
    "    d0 = deque()\n",
    "    d1 = deque()\n",
    "    \n",
    "    d0.append(source)\n",
    "    data[source]['marked'] = True\n",
    "    \n",
    "    while True:\n",
    "        \n",
    "        if not d0 and not d1:\n",
    "            current_distance = -1\n",
    "            break\n",
    "        \n",
    "        if current_distance % 2 == 0:\n",
    "            \n",
    "            v = d0.pop()\n",
    "            \n",
    "            if v == stock:\n",
    "                break\n",
    "                \n",
    "            for i in data[v]['linked']:                \n",
    "                if not data[i]['marked']:\n",
    "                    d1.append(i)\n",
    "                    data[i]['marked'] = True\n",
    "            \n",
    "            if not d0:\n",
    "                current_distance += 1\n",
    "                \n",
    "        else:\n",
    "            \n",
    "            v = d1.pop()\n",
    "            \n",
    "            if v == stock:\n",
    "                break\n",
    "                \n",
    "            for i in data[v]['linked']:\n",
    "                if not data[i]['marked']:\n",
    "                    d0.append(i)\n",
    "                    data[i]['marked'] = True\n",
    "            \n",
    "            if not d1:\n",
    "                current_distance += 1 \n",
    "        \n",
    "    for key, value in data.items():\n",
    "        value['marked'] = False\n",
    "        \n",
    "    return current_distance"
   ]
  },
  {
   "cell_type": "code",
   "execution_count": null,
   "id": "c67d3255",
   "metadata": {},
   "outputs": [],
   "source": [
    "d = {\n",
    "    1: {\n",
    "        'linked': [2,3,4,10],\n",
    "        'distances':{},\n",
    "        'marked': False\n",
    "    },\n",
    "    2: {\n",
    "        'linked': [1,5,6,7],\n",
    "        'distances':{},\n",
    "        'marked': False\n",
    "    },\n",
    "    3: {\n",
    "        'linked': [1,8],\n",
    "        'distances':{},\n",
    "        'marked': False\n",
    "    },\n",
    "    4: {\n",
    "        'linked': [1,9,10],\n",
    "        'distances':{},\n",
    "        'marked': False\n",
    "    },\n",
    "    5: {\n",
    "        'linked': [2],\n",
    "        'distances':{},\n",
    "        'marked': False\n",
    "    },\n",
    "    6: {\n",
    "        'linked': [2],\n",
    "        'distances':{},\n",
    "        'marked': False\n",
    "    },\n",
    "    7: {\n",
    "        'linked': [2],\n",
    "        'distances':{},\n",
    "        'marked': False\n",
    "    },\n",
    "    8: {\n",
    "        'linked': [3],\n",
    "        'distances':{},\n",
    "        'marked': False\n",
    "    },\n",
    "    9: {\n",
    "        'linked': [4],\n",
    "        'distances':{},\n",
    "        'marked': False\n",
    "    },\n",
    "    10: {\n",
    "        'linked': [4,1],\n",
    "        'distances':{},\n",
    "        'marked': False\n",
    "    }\n",
    "}\n",
    "\n",
    "print(bfs(1, 3, d))"
   ]
  },
  {
   "cell_type": "code",
   "execution_count": 3,
   "id": "51797e45",
   "metadata": {},
   "outputs": [],
   "source": [
    "data = parse('test.txt', oriented=False)"
   ]
  },
  {
   "cell_type": "code",
   "execution_count": 4,
   "id": "ed5a81c4",
   "metadata": {},
   "outputs": [
    {
     "name": "stdout",
     "output_type": "stream",
     "text": [
      "{84424: {'linked': [276, 1662, 5089, 6058, 6229, 10639, 16442, 19325, 19834, 20113, 21937, 25452, 26902, 29829, 30222, 32432, 33040, 39238, 39521, 41418, 45009, 45098, 45242, 47005, 47968, 47999, 49934, 50220, 50897, 51730, 53681, 57537, 58458, 59326, 61571, 63552, 64124, 64568, 66200, 69839, 72391, 73543, 76259, 77098, 77915, 78627, 83560, 85420, 88768, 89131, 89308, 89994, 90506, 91060, 92387, 93296, 94138, 94329, 95070, 95531, 96570, 97101, 98506, 99104, 104802, 106611, 107829, 109016, 112605, 117751, 122908, 124023, 125190, 130825, 132445], 'distances': {}, 'degree': 75, 'marked': False, 'centrality': 0}, 276: {'linked': [84424], 'distances': {}, 'degree': 1, 'marked': False, 'centrality': 0}, 1662: {'linked': [84424], 'distances': {}, 'degree': 1, 'marked': False, 'centrality': 0}, 5089: {'linked': [84424], 'distances': {}, 'degree': 1, 'marked': False, 'centrality': 0}, 6058: {'linked': [84424], 'distances': {}, 'degree': 1, 'marked': False, 'centrality': 0}, 6229: {'linked': [84424], 'distances': {}, 'degree': 1, 'marked': False, 'centrality': 0}, 10639: {'linked': [84424], 'distances': {}, 'degree': 1, 'marked': False, 'centrality': 0}, 16442: {'linked': [84424], 'distances': {}, 'degree': 1, 'marked': False, 'centrality': 0}, 19325: {'linked': [84424], 'distances': {}, 'degree': 1, 'marked': False, 'centrality': 0}, 19834: {'linked': [84424], 'distances': {}, 'degree': 1, 'marked': False, 'centrality': 0}, 20113: {'linked': [84424], 'distances': {}, 'degree': 1, 'marked': False, 'centrality': 0}, 21937: {'linked': [84424, 94138], 'distances': {}, 'degree': 2, 'marked': False, 'centrality': 0}, 25452: {'linked': [84424], 'distances': {}, 'degree': 1, 'marked': False, 'centrality': 0}, 26902: {'linked': [84424], 'distances': {}, 'degree': 1, 'marked': False, 'centrality': 0}, 29829: {'linked': [84424], 'distances': {}, 'degree': 1, 'marked': False, 'centrality': 0}, 30222: {'linked': [84424], 'distances': {}, 'degree': 1, 'marked': False, 'centrality': 0}, 32432: {'linked': [84424], 'distances': {}, 'degree': 1, 'marked': False, 'centrality': 0}, 33040: {'linked': [84424], 'distances': {}, 'degree': 1, 'marked': False, 'centrality': 0}, 39238: {'linked': [84424], 'distances': {}, 'degree': 1, 'marked': False, 'centrality': 0}, 39521: {'linked': [84424], 'distances': {}, 'degree': 1, 'marked': False, 'centrality': 0}, 41418: {'linked': [84424], 'distances': {}, 'degree': 1, 'marked': False, 'centrality': 0}, 45009: {'linked': [84424], 'distances': {}, 'degree': 1, 'marked': False, 'centrality': 0}, 45098: {'linked': [84424], 'distances': {}, 'degree': 1, 'marked': False, 'centrality': 0}, 45242: {'linked': [84424], 'distances': {}, 'degree': 1, 'marked': False, 'centrality': 0}, 47005: {'linked': [84424], 'distances': {}, 'degree': 1, 'marked': False, 'centrality': 0}, 47968: {'linked': [84424], 'distances': {}, 'degree': 1, 'marked': False, 'centrality': 0}, 47999: {'linked': [84424], 'distances': {}, 'degree': 1, 'marked': False, 'centrality': 0}, 49934: {'linked': [84424], 'distances': {}, 'degree': 1, 'marked': False, 'centrality': 0}, 50220: {'linked': [84424], 'distances': {}, 'degree': 1, 'marked': False, 'centrality': 0}, 50897: {'linked': [84424], 'distances': {}, 'degree': 1, 'marked': False, 'centrality': 0}, 51730: {'linked': [84424], 'distances': {}, 'degree': 1, 'marked': False, 'centrality': 0}, 53681: {'linked': [84424], 'distances': {}, 'degree': 1, 'marked': False, 'centrality': 0}, 57537: {'linked': [84424], 'distances': {}, 'degree': 1, 'marked': False, 'centrality': 0}, 58458: {'linked': [84424], 'distances': {}, 'degree': 1, 'marked': False, 'centrality': 0}, 59326: {'linked': [84424], 'distances': {}, 'degree': 1, 'marked': False, 'centrality': 0}, 61571: {'linked': [84424, 94138], 'distances': {}, 'degree': 2, 'marked': False, 'centrality': 0}, 63552: {'linked': [84424], 'distances': {}, 'degree': 1, 'marked': False, 'centrality': 0}, 64124: {'linked': [84424, 94138], 'distances': {}, 'degree': 2, 'marked': False, 'centrality': 0}, 64568: {'linked': [84424], 'distances': {}, 'degree': 1, 'marked': False, 'centrality': 0}, 66200: {'linked': [84424], 'distances': {}, 'degree': 1, 'marked': False, 'centrality': 0}, 69839: {'linked': [84424], 'distances': {}, 'degree': 1, 'marked': False, 'centrality': 0}, 72391: {'linked': [84424], 'distances': {}, 'degree': 1, 'marked': False, 'centrality': 0}, 73543: {'linked': [84424, 89308, 94138], 'distances': {}, 'degree': 3, 'marked': False, 'centrality': 0}, 76259: {'linked': [84424], 'distances': {}, 'degree': 1, 'marked': False, 'centrality': 0}, 77098: {'linked': [84424], 'distances': {}, 'degree': 1, 'marked': False, 'centrality': 0}, 77915: {'linked': [84424], 'distances': {}, 'degree': 1, 'marked': False, 'centrality': 0}, 78627: {'linked': [84424], 'distances': {}, 'degree': 1, 'marked': False, 'centrality': 0}, 83560: {'linked': [84424], 'distances': {}, 'degree': 1, 'marked': False, 'centrality': 0}, 85420: {'linked': [84424], 'distances': {}, 'degree': 1, 'marked': False, 'centrality': 0}, 88768: {'linked': [84424], 'distances': {}, 'degree': 1, 'marked': False, 'centrality': 0}, 89131: {'linked': [84424], 'distances': {}, 'degree': 1, 'marked': False, 'centrality': 0}, 89308: {'linked': [84424, 560, 15829, 42972, 55528, 57618, 60310, 63707, 63769, 68320, 73543, 75607, 92552, 93762, 93889, 94138, 95860, 96909, 99870, 112293, 113138, 116343, 116453, 118859, 121831, 122003, 123268, 125345, 127886, 129530, 129910, 132104], 'distances': {}, 'degree': 32, 'marked': False, 'centrality': 0}, 89994: {'linked': [84424, 94138], 'distances': {}, 'degree': 2, 'marked': False, 'centrality': 0}, 90506: {'linked': [84424], 'distances': {}, 'degree': 1, 'marked': False, 'centrality': 0}, 91060: {'linked': [84424], 'distances': {}, 'degree': 1, 'marked': False, 'centrality': 0}, 92387: {'linked': [84424], 'distances': {}, 'degree': 1, 'marked': False, 'centrality': 0}, 93296: {'linked': [84424], 'distances': {}, 'degree': 1, 'marked': False, 'centrality': 0}, 94138: {'linked': [84424, 89308, 2175, 3365, 4279, 4930, 5335, 8445, 9039, 10976, 11050, 11580, 19204, 21937, 23986, 24075, 26526, 28516, 28787, 31404, 33777, 34608, 35729, 36907, 37861, 38921, 42512, 42994, 44011, 46847, 47856, 50991, 52870, 53890, 55233, 56117, 58532, 59151, 59173, 60390, 61461, 61472, 61571, 61686, 61929, 62496, 64054, 64124, 65114, 65794, 66766, 68639, 69582, 70618, 72233, 72941, 73543, 74612, 77580, 79936, 83003, 84150, 87214, 87237, 89994, 92504, 94235, 95822, 101953, 104802, 105827, 109016, 110499, 112243, 115344, 118103, 118630, 118958, 120454, 126152, 130165], 'distances': {}, 'degree': 81, 'marked': False, 'centrality': 0}, 94329: {'linked': [84424], 'distances': {}, 'degree': 1, 'marked': False, 'centrality': 0}, 95070: {'linked': [84424], 'distances': {}, 'degree': 1, 'marked': False, 'centrality': 0}, 95531: {'linked': [84424], 'distances': {}, 'degree': 1, 'marked': False, 'centrality': 0}, 96570: {'linked': [84424], 'distances': {}, 'degree': 1, 'marked': False, 'centrality': 0}, 97101: {'linked': [84424], 'distances': {}, 'degree': 1, 'marked': False, 'centrality': 0}, 98506: {'linked': [84424], 'distances': {}, 'degree': 1, 'marked': False, 'centrality': 0}, 99104: {'linked': [84424], 'distances': {}, 'degree': 1, 'marked': False, 'centrality': 0}, 104802: {'linked': [84424, 94138], 'distances': {}, 'degree': 2, 'marked': False, 'centrality': 0}, 106611: {'linked': [84424], 'distances': {}, 'degree': 1, 'marked': False, 'centrality': 0}, 107829: {'linked': [84424], 'distances': {}, 'degree': 1, 'marked': False, 'centrality': 0}, 109016: {'linked': [84424, 94138], 'distances': {}, 'degree': 2, 'marked': False, 'centrality': 0}, 112605: {'linked': [84424], 'distances': {}, 'degree': 1, 'marked': False, 'centrality': 0}, 117751: {'linked': [84424], 'distances': {}, 'degree': 1, 'marked': False, 'centrality': 0}, 122908: {'linked': [84424], 'distances': {}, 'degree': 1, 'marked': False, 'centrality': 0}, 124023: {'linked': [84424], 'distances': {}, 'degree': 1, 'marked': False, 'centrality': 0}, 125190: {'linked': [84424], 'distances': {}, 'degree': 1, 'marked': False, 'centrality': 0}, 130825: {'linked': [84424], 'distances': {}, 'degree': 1, 'marked': False, 'centrality': 0}, 132445: {'linked': [84424], 'distances': {}, 'degree': 1, 'marked': False, 'centrality': 0}, 560: {'linked': [89308], 'distances': {}, 'degree': 1, 'marked': False, 'centrality': 0}, 15829: {'linked': [89308], 'distances': {}, 'degree': 1, 'marked': False, 'centrality': 0}, 42972: {'linked': [89308], 'distances': {}, 'degree': 1, 'marked': False, 'centrality': 0}, 55528: {'linked': [89308], 'distances': {}, 'degree': 1, 'marked': False, 'centrality': 0}, 57618: {'linked': [89308], 'distances': {}, 'degree': 1, 'marked': False, 'centrality': 0}, 60310: {'linked': [89308], 'distances': {}, 'degree': 1, 'marked': False, 'centrality': 0}, 63707: {'linked': [89308], 'distances': {}, 'degree': 1, 'marked': False, 'centrality': 0}, 63769: {'linked': [89308], 'distances': {}, 'degree': 1, 'marked': False, 'centrality': 0}, 68320: {'linked': [89308], 'distances': {}, 'degree': 1, 'marked': False, 'centrality': 0}, 75607: {'linked': [89308], 'distances': {}, 'degree': 1, 'marked': False, 'centrality': 0}, 92552: {'linked': [89308], 'distances': {}, 'degree': 1, 'marked': False, 'centrality': 0}, 93762: {'linked': [89308], 'distances': {}, 'degree': 1, 'marked': False, 'centrality': 0}, 93889: {'linked': [89308], 'distances': {}, 'degree': 1, 'marked': False, 'centrality': 0}, 95860: {'linked': [89308], 'distances': {}, 'degree': 1, 'marked': False, 'centrality': 0}, 96909: {'linked': [89308], 'distances': {}, 'degree': 1, 'marked': False, 'centrality': 0}, 99870: {'linked': [89308], 'distances': {}, 'degree': 1, 'marked': False, 'centrality': 0}, 112293: {'linked': [89308], 'distances': {}, 'degree': 1, 'marked': False, 'centrality': 0}, 113138: {'linked': [89308], 'distances': {}, 'degree': 1, 'marked': False, 'centrality': 0}, 116343: {'linked': [89308], 'distances': {}, 'degree': 1, 'marked': False, 'centrality': 0}, 116453: {'linked': [89308], 'distances': {}, 'degree': 1, 'marked': False, 'centrality': 0}, 118859: {'linked': [89308], 'distances': {}, 'degree': 1, 'marked': False, 'centrality': 0}, 121831: {'linked': [89308], 'distances': {}, 'degree': 1, 'marked': False, 'centrality': 0}, 122003: {'linked': [89308], 'distances': {}, 'degree': 1, 'marked': False, 'centrality': 0}, 123268: {'linked': [89308], 'distances': {}, 'degree': 1, 'marked': False, 'centrality': 0}, 125345: {'linked': [89308], 'distances': {}, 'degree': 1, 'marked': False, 'centrality': 0}, 127886: {'linked': [89308], 'distances': {}, 'degree': 1, 'marked': False, 'centrality': 0}, 129530: {'linked': [89308], 'distances': {}, 'degree': 1, 'marked': False, 'centrality': 0}, 129910: {'linked': [89308], 'distances': {}, 'degree': 1, 'marked': False, 'centrality': 0}, 132104: {'linked': [89308], 'distances': {}, 'degree': 1, 'marked': False, 'centrality': 0}, 2175: {'linked': [94138], 'distances': {}, 'degree': 1, 'marked': False, 'centrality': 0}, 3365: {'linked': [94138], 'distances': {}, 'degree': 1, 'marked': False, 'centrality': 0}, 4279: {'linked': [94138], 'distances': {}, 'degree': 1, 'marked': False, 'centrality': 0}, 4930: {'linked': [94138], 'distances': {}, 'degree': 1, 'marked': False, 'centrality': 0}, 5335: {'linked': [94138], 'distances': {}, 'degree': 1, 'marked': False, 'centrality': 0}, 8445: {'linked': [94138], 'distances': {}, 'degree': 1, 'marked': False, 'centrality': 0}, 9039: {'linked': [94138], 'distances': {}, 'degree': 1, 'marked': False, 'centrality': 0}, 10976: {'linked': [94138], 'distances': {}, 'degree': 1, 'marked': False, 'centrality': 0}, 11050: {'linked': [94138], 'distances': {}, 'degree': 1, 'marked': False, 'centrality': 0}, 11580: {'linked': [94138], 'distances': {}, 'degree': 1, 'marked': False, 'centrality': 0}, 19204: {'linked': [94138], 'distances': {}, 'degree': 1, 'marked': False, 'centrality': 0}, 23986: {'linked': [94138], 'distances': {}, 'degree': 1, 'marked': False, 'centrality': 0}, 24075: {'linked': [94138], 'distances': {}, 'degree': 1, 'marked': False, 'centrality': 0}, 26526: {'linked': [94138], 'distances': {}, 'degree': 1, 'marked': False, 'centrality': 0}, 28516: {'linked': [94138], 'distances': {}, 'degree': 1, 'marked': False, 'centrality': 0}, 28787: {'linked': [94138], 'distances': {}, 'degree': 1, 'marked': False, 'centrality': 0}, 31404: {'linked': [94138], 'distances': {}, 'degree': 1, 'marked': False, 'centrality': 0}, 33777: {'linked': [94138], 'distances': {}, 'degree': 1, 'marked': False, 'centrality': 0}, 34608: {'linked': [94138], 'distances': {}, 'degree': 1, 'marked': False, 'centrality': 0}, 35729: {'linked': [94138], 'distances': {}, 'degree': 1, 'marked': False, 'centrality': 0}, 36907: {'linked': [94138], 'distances': {}, 'degree': 1, 'marked': False, 'centrality': 0}, 37861: {'linked': [94138], 'distances': {}, 'degree': 1, 'marked': False, 'centrality': 0}, 38921: {'linked': [94138], 'distances': {}, 'degree': 1, 'marked': False, 'centrality': 0}, 42512: {'linked': [94138], 'distances': {}, 'degree': 1, 'marked': False, 'centrality': 0}, 42994: {'linked': [94138], 'distances': {}, 'degree': 1, 'marked': False, 'centrality': 0}, 44011: {'linked': [94138], 'distances': {}, 'degree': 1, 'marked': False, 'centrality': 0}, 46847: {'linked': [94138], 'distances': {}, 'degree': 1, 'marked': False, 'centrality': 0}, 47856: {'linked': [94138], 'distances': {}, 'degree': 1, 'marked': False, 'centrality': 0}, 50991: {'linked': [94138], 'distances': {}, 'degree': 1, 'marked': False, 'centrality': 0}, 52870: {'linked': [94138], 'distances': {}, 'degree': 1, 'marked': False, 'centrality': 0}, 53890: {'linked': [94138], 'distances': {}, 'degree': 1, 'marked': False, 'centrality': 0}, 55233: {'linked': [94138], 'distances': {}, 'degree': 1, 'marked': False, 'centrality': 0}, 56117: {'linked': [94138], 'distances': {}, 'degree': 1, 'marked': False, 'centrality': 0}, 58532: {'linked': [94138], 'distances': {}, 'degree': 1, 'marked': False, 'centrality': 0}, 59151: {'linked': [94138], 'distances': {}, 'degree': 1, 'marked': False, 'centrality': 0}, 59173: {'linked': [94138], 'distances': {}, 'degree': 1, 'marked': False, 'centrality': 0}, 60390: {'linked': [94138], 'distances': {}, 'degree': 1, 'marked': False, 'centrality': 0}, 61461: {'linked': [94138], 'distances': {}, 'degree': 1, 'marked': False, 'centrality': 0}, 61472: {'linked': [94138], 'distances': {}, 'degree': 1, 'marked': False, 'centrality': 0}, 61686: {'linked': [94138], 'distances': {}, 'degree': 1, 'marked': False, 'centrality': 0}, 61929: {'linked': [94138], 'distances': {}, 'degree': 1, 'marked': False, 'centrality': 0}, 62496: {'linked': [94138], 'distances': {}, 'degree': 1, 'marked': False, 'centrality': 0}, 64054: {'linked': [94138], 'distances': {}, 'degree': 1, 'marked': False, 'centrality': 0}, 65114: {'linked': [94138], 'distances': {}, 'degree': 1, 'marked': False, 'centrality': 0}, 65794: {'linked': [94138], 'distances': {}, 'degree': 1, 'marked': False, 'centrality': 0}, 66766: {'linked': [94138], 'distances': {}, 'degree': 1, 'marked': False, 'centrality': 0}, 68639: {'linked': [94138], 'distances': {}, 'degree': 1, 'marked': False, 'centrality': 0}, 69582: {'linked': [94138], 'distances': {}, 'degree': 1, 'marked': False, 'centrality': 0}, 70618: {'linked': [94138], 'distances': {}, 'degree': 1, 'marked': False, 'centrality': 0}, 72233: {'linked': [94138], 'distances': {}, 'degree': 1, 'marked': False, 'centrality': 0}, 72941: {'linked': [94138], 'distances': {}, 'degree': 1, 'marked': False, 'centrality': 0}, 74612: {'linked': [94138], 'distances': {}, 'degree': 1, 'marked': False, 'centrality': 0}, 77580: {'linked': [94138], 'distances': {}, 'degree': 1, 'marked': False, 'centrality': 0}, 79936: {'linked': [94138], 'distances': {}, 'degree': 1, 'marked': False, 'centrality': 0}, 83003: {'linked': [94138], 'distances': {}, 'degree': 1, 'marked': False, 'centrality': 0}, 84150: {'linked': [94138], 'distances': {}, 'degree': 1, 'marked': False, 'centrality': 0}, 87214: {'linked': [94138], 'distances': {}, 'degree': 1, 'marked': False, 'centrality': 0}, 87237: {'linked': [94138], 'distances': {}, 'degree': 1, 'marked': False, 'centrality': 0}, 92504: {'linked': [94138], 'distances': {}, 'degree': 1, 'marked': False, 'centrality': 0}, 94235: {'linked': [94138], 'distances': {}, 'degree': 1, 'marked': False, 'centrality': 0}, 95822: {'linked': [94138], 'distances': {}, 'degree': 1, 'marked': False, 'centrality': 0}, 101953: {'linked': [94138], 'distances': {}, 'degree': 1, 'marked': False, 'centrality': 0}, 105827: {'linked': [94138], 'distances': {}, 'degree': 1, 'marked': False, 'centrality': 0}, 110499: {'linked': [94138], 'distances': {}, 'degree': 1, 'marked': False, 'centrality': 0}, 112243: {'linked': [94138], 'distances': {}, 'degree': 1, 'marked': False, 'centrality': 0}, 115344: {'linked': [94138], 'distances': {}, 'degree': 1, 'marked': False, 'centrality': 0}, 118103: {'linked': [94138], 'distances': {}, 'degree': 1, 'marked': False, 'centrality': 0}, 118630: {'linked': [94138], 'distances': {}, 'degree': 1, 'marked': False, 'centrality': 0}, 118958: {'linked': [94138], 'distances': {}, 'degree': 1, 'marked': False, 'centrality': 0}, 120454: {'linked': [94138], 'distances': {}, 'degree': 1, 'marked': False, 'centrality': 0}, 126152: {'linked': [94138], 'distances': {}, 'degree': 1, 'marked': False, 'centrality': 0}, 130165: {'linked': [94138], 'distances': {}, 'degree': 1, 'marked': False, 'centrality': 0}, 63225: {'linked': [2969, 8744, 19113, 20188, 23579, 26065, 27281, 30400], 'distances': {}, 'degree': 8, 'marked': False, 'centrality': 0}, 2969: {'linked': [63225], 'distances': {}, 'degree': 1, 'marked': False, 'centrality': 0}, 8744: {'linked': [63225], 'distances': {}, 'degree': 1, 'marked': False, 'centrality': 0}, 19113: {'linked': [63225], 'distances': {}, 'degree': 1, 'marked': False, 'centrality': 0}, 20188: {'linked': [63225], 'distances': {}, 'degree': 1, 'marked': False, 'centrality': 0}, 23579: {'linked': [63225], 'distances': {}, 'degree': 1, 'marked': False, 'centrality': 0}, 26065: {'linked': [63225], 'distances': {}, 'degree': 1, 'marked': False, 'centrality': 0}, 27281: {'linked': [63225], 'distances': {}, 'degree': 1, 'marked': False, 'centrality': 0}, 30400: {'linked': [63225], 'distances': {}, 'degree': 1, 'marked': False, 'centrality': 0}}\n"
     ]
    }
   ],
   "source": [
    "print(data)"
   ]
  },
  {
   "cell_type": "markdown",
   "id": "439f1f13",
   "metadata": {},
   "source": [
    "# Select landmarks random"
   ]
  },
  {
   "cell_type": "code",
   "execution_count": 20,
   "id": "e4ed9775",
   "metadata": {},
   "outputs": [
    {
     "name": "stdout",
     "output_type": "stream",
     "text": [
      "186\n",
      "18\n",
      "[125345, 63769, 50991, 45098, 95531, 62496, 37861, 69582, 276, 45009, 32432, 112243, 95860, 72233, 68320, 55528, 94235, 28787]\n"
     ]
    }
   ],
   "source": [
    "import random\n",
    "\n",
    "data_items = data.items()\n",
    "vertices = [i[0] for i in data_items]\n",
    "\n",
    "graph_size = len(data_items)\n",
    "percent_of_landmarks = 10\n",
    "number_of_landmarks = int(graph_size * (percent_of_landmarks / 100))\n",
    "\n",
    "random_indexes = random.sample(range(0,graph_size), number_of_landmarks)\n",
    "landmarks = [vertices[i] for i in random_indexes]\n",
    "\n",
    "print(graph_size)\n",
    "print(number_of_landmarks)\n",
    "print(landmarks)"
   ]
  },
  {
   "cell_type": "markdown",
   "id": "6ee3551e",
   "metadata": {},
   "source": [
    "# Select landmarks using their degree"
   ]
  },
  {
   "cell_type": "code",
   "execution_count": 3,
   "id": "f457ebc1",
   "metadata": {},
   "outputs": [
    {
     "name": "stdout",
     "output_type": "stream",
     "text": [
      "186\n",
      "18\n",
      "[94138, 84424, 89308, 63225, 73543, 21937, 61571, 64124, 89994, 104802, 109016, 276, 1662, 5089, 6058, 6229, 10639, 16442]\n"
     ]
    }
   ],
   "source": [
    "data_sorted = sorted(data.items(), key=lambda x: x[1]['degree'], reverse=True)\n",
    "graph_size = len(data_sorted)\n",
    "\n",
    "percent_of_landmarks = 10\n",
    "number_of_landmarks = int(graph_size * (percent_of_landmarks / 100))\n",
    "\n",
    "landmarks = [i[0] for i in data_sorted[:number_of_landmarks]]\n",
    "\n",
    "print(graph_size)\n",
    "print(number_of_landmarks)\n",
    "print(landmarks)\n",
    "# print(data_sorted)"
   ]
  },
  {
   "cell_type": "markdown",
   "id": "72aa4638",
   "metadata": {},
   "source": [
    "# Select landmarks using their closeness centrality"
   ]
  },
  {
   "cell_type": "code",
   "execution_count": 5,
   "id": "75f68013",
   "metadata": {},
   "outputs": [
    {
     "name": "stdout",
     "output_type": "stream",
     "text": [
      "Number of seeds: 37\n",
      "Number of landmarks: 18\n",
      "Total number of landmarks: 18\n",
      "[68320, 92552, 113138, 125345, 10639, 30222, 39238, 45242, 58458, 132445, 44011, 56117, 61472, 70618, 77580, 120454, 109016, 23579]\n"
     ]
    }
   ],
   "source": [
    "import random\n",
    "\n",
    "data_items = data.items()\n",
    "vertices = [i[0] for i in data_items]\n",
    "\n",
    "graph_size = len(data_items)\n",
    "\n",
    "percent_of_seeds = 20\n",
    "number_of_seeds = int(graph_size * (percent_of_seeds / 100))\n",
    "print('Number of seeds: ' + str(number_of_seeds))\n",
    "\n",
    "percent_of_landmarks = 10\n",
    "assert percent_of_landmarks <= percent_of_seeds\n",
    "number_of_landmarks = int(graph_size * (percent_of_landmarks / 100))\n",
    "print('Number of landmarks: ' + str(number_of_landmarks))\n",
    "\n",
    "# select random seeds from input graph to calculate their closeness centrality\n",
    "random_indexes = random.sample(range(0,graph_size), number_of_landmarks)\n",
    "seeds = [vertices[i] for i in random_indexes]\n",
    "\n",
    "for seed in seeds:\n",
    "    count_distance(seed, data)\n",
    "\n",
    "landmarks = [\n",
    "    i[0] for i in sorted(\n",
    "        [(j[0], j[1]['centrality']) for j in data.items() if j[0] in seeds],\n",
    "        key= lambda x: x[1],\n",
    "        reverse=True\n",
    "    )[:number_of_landmarks]\n",
    "]\n",
    "print('Total number of landmarks: ' + str(len(landmarks)))\n",
    "print(landmarks)\n",
    "# for l in landmarks:\n",
    "#     print(str(l) + \":\")\n",
    "#     print(data[l])"
   ]
  },
  {
   "cell_type": "code",
   "execution_count": 15,
   "id": "c16f7a40",
   "metadata": {
    "scrolled": true
   },
   "outputs": [
    {
     "name": "stdout",
     "output_type": "stream",
     "text": [
      "{84424: {'linked': [276, 1662, 5089, 6058, 6229, 10639, 16442, 19325, 19834, 20113, 21937, 25452, 26902, 29829, 30222, 32432, 33040, 39238, 39521, 41418, 45009, 45098, 45242, 47005, 47968, 47999, 49934, 50220, 50897, 51730, 53681, 57537, 58458, 59326, 61571, 63552, 64124, 64568, 66200, 69839, 72391, 73543, 76259, 77098, 77915, 78627, 83560, 85420, 88768, 89131, 89308, 89994, 90506, 91060, 92387, 93296, 94138, 94329, 95070, 95531, 96570, 97101, 98506, 99104, 104802, 106611, 107829, 109016, 112605, 117751, 122908, 124023, 125190, 130825, 132445], 'distances': {39238: 1, 77580: 2, 61472: 2, 45242: 1, 132445: 1, 44011: 2, 125345: 2, 120454: 2, 70618: 2, 58458: 1, 92552: 2, 10639: 1, 68320: 2, 30222: 1, 113138: 2, 109016: 1, 56117: 2}, 'degree': 75, 'marked': False, 'centrality': 0}, 276: {'linked': [84424], 'distances': {39238: 2, 77580: 3, 61472: 3, 45242: 2, 132445: 2, 44011: 3, 125345: 3, 120454: 3, 70618: 3, 58458: 2, 92552: 3, 10639: 2, 68320: 3, 30222: 2, 113138: 3, 109016: 2, 56117: 3}, 'degree': 1, 'marked': False, 'centrality': 0}, 1662: {'linked': [84424], 'distances': {39238: 2, 77580: 3, 61472: 3, 45242: 2, 132445: 2, 44011: 3, 125345: 3, 120454: 3, 70618: 3, 58458: 2, 92552: 3, 10639: 2, 68320: 3, 30222: 2, 113138: 3, 109016: 2, 56117: 3}, 'degree': 1, 'marked': False, 'centrality': 0}, 5089: {'linked': [84424], 'distances': {39238: 2, 77580: 3, 61472: 3, 45242: 2, 132445: 2, 44011: 3, 125345: 3, 120454: 3, 70618: 3, 58458: 2, 92552: 3, 10639: 2, 68320: 3, 30222: 2, 113138: 3, 109016: 2, 56117: 3}, 'degree': 1, 'marked': False, 'centrality': 0}, 6058: {'linked': [84424], 'distances': {39238: 2, 77580: 3, 61472: 3, 45242: 2, 132445: 2, 44011: 3, 125345: 3, 120454: 3, 70618: 3, 58458: 2, 92552: 3, 10639: 2, 68320: 3, 30222: 2, 113138: 3, 109016: 2, 56117: 3}, 'degree': 1, 'marked': False, 'centrality': 0}, 6229: {'linked': [84424], 'distances': {39238: 2, 77580: 3, 61472: 3, 45242: 2, 132445: 2, 44011: 3, 125345: 3, 120454: 3, 70618: 3, 58458: 2, 92552: 3, 10639: 2, 68320: 3, 30222: 2, 113138: 3, 109016: 2, 56117: 3}, 'degree': 1, 'marked': False, 'centrality': 0}, 10639: {'linked': [84424], 'distances': {39238: 2, 77580: 3, 61472: 3, 45242: 2, 132445: 2, 44011: 3, 125345: 3, 120454: 3, 70618: 3, 58458: 2, 92552: 3, 10639: 0, 68320: 3, 30222: 2, 113138: 3, 109016: 2, 56117: 3}, 'degree': 1, 'marked': False, 'centrality': 2.539325842696629}, 16442: {'linked': [84424], 'distances': {39238: 2, 77580: 3, 61472: 3, 45242: 2, 132445: 2, 44011: 3, 125345: 3, 120454: 3, 70618: 3, 58458: 2, 92552: 3, 10639: 2, 68320: 3, 30222: 2, 113138: 3, 109016: 2, 56117: 3}, 'degree': 1, 'marked': False, 'centrality': 0}, 19325: {'linked': [84424], 'distances': {39238: 2, 77580: 3, 61472: 3, 45242: 2, 132445: 2, 44011: 3, 125345: 3, 120454: 3, 70618: 3, 58458: 2, 92552: 3, 10639: 2, 68320: 3, 30222: 2, 113138: 3, 109016: 2, 56117: 3}, 'degree': 1, 'marked': False, 'centrality': 0}, 19834: {'linked': [84424], 'distances': {39238: 2, 77580: 3, 61472: 3, 45242: 2, 132445: 2, 44011: 3, 125345: 3, 120454: 3, 70618: 3, 58458: 2, 92552: 3, 10639: 2, 68320: 3, 30222: 2, 113138: 3, 109016: 2, 56117: 3}, 'degree': 1, 'marked': False, 'centrality': 0}, 20113: {'linked': [84424], 'distances': {39238: 2, 77580: 3, 61472: 3, 45242: 2, 132445: 2, 44011: 3, 125345: 3, 120454: 3, 70618: 3, 58458: 2, 92552: 3, 10639: 2, 68320: 3, 30222: 2, 113138: 3, 109016: 2, 56117: 3}, 'degree': 1, 'marked': False, 'centrality': 0}, 21937: {'linked': [84424, 94138], 'distances': {39238: 2, 77580: 2, 61472: 2, 45242: 2, 132445: 2, 44011: 2, 125345: 3, 120454: 2, 70618: 2, 58458: 2, 92552: 3, 10639: 2, 68320: 3, 30222: 2, 113138: 3, 109016: 2, 56117: 2}, 'degree': 2, 'marked': False, 'centrality': 0}, 25452: {'linked': [84424], 'distances': {39238: 2, 77580: 3, 61472: 3, 45242: 2, 132445: 2, 44011: 3, 125345: 3, 120454: 3, 70618: 3, 58458: 2, 92552: 3, 10639: 2, 68320: 3, 30222: 2, 113138: 3, 109016: 2, 56117: 3}, 'degree': 1, 'marked': False, 'centrality': 0}, 26902: {'linked': [84424], 'distances': {39238: 2, 77580: 3, 61472: 3, 45242: 2, 132445: 2, 44011: 3, 125345: 3, 120454: 3, 70618: 3, 58458: 2, 92552: 3, 10639: 2, 68320: 3, 30222: 2, 113138: 3, 109016: 2, 56117: 3}, 'degree': 1, 'marked': False, 'centrality': 0}, 29829: {'linked': [84424], 'distances': {39238: 2, 77580: 3, 61472: 3, 45242: 2, 132445: 2, 44011: 3, 125345: 3, 120454: 3, 70618: 3, 58458: 2, 92552: 3, 10639: 2, 68320: 3, 30222: 2, 113138: 3, 109016: 2, 56117: 3}, 'degree': 1, 'marked': False, 'centrality': 0}, 30222: {'linked': [84424], 'distances': {39238: 2, 77580: 3, 61472: 3, 45242: 2, 132445: 2, 44011: 3, 125345: 3, 120454: 3, 70618: 3, 58458: 2, 92552: 3, 10639: 2, 68320: 3, 30222: 0, 113138: 3, 109016: 2, 56117: 3}, 'degree': 1, 'marked': False, 'centrality': 2.539325842696629}, 32432: {'linked': [84424], 'distances': {39238: 2, 77580: 3, 61472: 3, 45242: 2, 132445: 2, 44011: 3, 125345: 3, 120454: 3, 70618: 3, 58458: 2, 92552: 3, 10639: 2, 68320: 3, 30222: 2, 113138: 3, 109016: 2, 56117: 3}, 'degree': 1, 'marked': False, 'centrality': 0}, 33040: {'linked': [84424], 'distances': {39238: 2, 77580: 3, 61472: 3, 45242: 2, 132445: 2, 44011: 3, 125345: 3, 120454: 3, 70618: 3, 58458: 2, 92552: 3, 10639: 2, 68320: 3, 30222: 2, 113138: 3, 109016: 2, 56117: 3}, 'degree': 1, 'marked': False, 'centrality': 0}, 39238: {'linked': [84424], 'distances': {39238: 0, 77580: 3, 61472: 3, 45242: 2, 132445: 2, 44011: 3, 125345: 3, 120454: 3, 70618: 3, 58458: 2, 92552: 3, 10639: 2, 68320: 3, 30222: 2, 113138: 3, 109016: 2, 56117: 3}, 'degree': 1, 'marked': False, 'centrality': 2.539325842696629}, 39521: {'linked': [84424], 'distances': {39238: 2, 77580: 3, 61472: 3, 45242: 2, 132445: 2, 44011: 3, 125345: 3, 120454: 3, 70618: 3, 58458: 2, 92552: 3, 10639: 2, 68320: 3, 30222: 2, 113138: 3, 109016: 2, 56117: 3}, 'degree': 1, 'marked': False, 'centrality': 0}, 41418: {'linked': [84424], 'distances': {39238: 2, 77580: 3, 61472: 3, 45242: 2, 132445: 2, 44011: 3, 125345: 3, 120454: 3, 70618: 3, 58458: 2, 92552: 3, 10639: 2, 68320: 3, 30222: 2, 113138: 3, 109016: 2, 56117: 3}, 'degree': 1, 'marked': False, 'centrality': 0}, 45009: {'linked': [84424], 'distances': {39238: 2, 77580: 3, 61472: 3, 45242: 2, 132445: 2, 44011: 3, 125345: 3, 120454: 3, 70618: 3, 58458: 2, 92552: 3, 10639: 2, 68320: 3, 30222: 2, 113138: 3, 109016: 2, 56117: 3}, 'degree': 1, 'marked': False, 'centrality': 0}, 45098: {'linked': [84424], 'distances': {39238: 2, 77580: 3, 61472: 3, 45242: 2, 132445: 2, 44011: 3, 125345: 3, 120454: 3, 70618: 3, 58458: 2, 92552: 3, 10639: 2, 68320: 3, 30222: 2, 113138: 3, 109016: 2, 56117: 3}, 'degree': 1, 'marked': False, 'centrality': 0}, 45242: {'linked': [84424], 'distances': {39238: 2, 77580: 3, 61472: 3, 45242: 0, 132445: 2, 44011: 3, 125345: 3, 120454: 3, 70618: 3, 58458: 2, 92552: 3, 10639: 2, 68320: 3, 30222: 2, 113138: 3, 109016: 2, 56117: 3}, 'degree': 1, 'marked': False, 'centrality': 2.539325842696629}, 47005: {'linked': [84424], 'distances': {39238: 2, 77580: 3, 61472: 3, 45242: 2, 132445: 2, 44011: 3, 125345: 3, 120454: 3, 70618: 3, 58458: 2, 92552: 3, 10639: 2, 68320: 3, 30222: 2, 113138: 3, 109016: 2, 56117: 3}, 'degree': 1, 'marked': False, 'centrality': 0}, 47968: {'linked': [84424], 'distances': {39238: 2, 77580: 3, 61472: 3, 45242: 2, 132445: 2, 44011: 3, 125345: 3, 120454: 3, 70618: 3, 58458: 2, 92552: 3, 10639: 2, 68320: 3, 30222: 2, 113138: 3, 109016: 2, 56117: 3}, 'degree': 1, 'marked': False, 'centrality': 0}, 47999: {'linked': [84424], 'distances': {39238: 2, 77580: 3, 61472: 3, 45242: 2, 132445: 2, 44011: 3, 125345: 3, 120454: 3, 70618: 3, 58458: 2, 92552: 3, 10639: 2, 68320: 3, 30222: 2, 113138: 3, 109016: 2, 56117: 3}, 'degree': 1, 'marked': False, 'centrality': 0}, 49934: {'linked': [84424], 'distances': {39238: 2, 77580: 3, 61472: 3, 45242: 2, 132445: 2, 44011: 3, 125345: 3, 120454: 3, 70618: 3, 58458: 2, 92552: 3, 10639: 2, 68320: 3, 30222: 2, 113138: 3, 109016: 2, 56117: 3}, 'degree': 1, 'marked': False, 'centrality': 0}, 50220: {'linked': [84424], 'distances': {39238: 2, 77580: 3, 61472: 3, 45242: 2, 132445: 2, 44011: 3, 125345: 3, 120454: 3, 70618: 3, 58458: 2, 92552: 3, 10639: 2, 68320: 3, 30222: 2, 113138: 3, 109016: 2, 56117: 3}, 'degree': 1, 'marked': False, 'centrality': 0}, 50897: {'linked': [84424], 'distances': {39238: 2, 77580: 3, 61472: 3, 45242: 2, 132445: 2, 44011: 3, 125345: 3, 120454: 3, 70618: 3, 58458: 2, 92552: 3, 10639: 2, 68320: 3, 30222: 2, 113138: 3, 109016: 2, 56117: 3}, 'degree': 1, 'marked': False, 'centrality': 0}, 51730: {'linked': [84424], 'distances': {39238: 2, 77580: 3, 61472: 3, 45242: 2, 132445: 2, 44011: 3, 125345: 3, 120454: 3, 70618: 3, 58458: 2, 92552: 3, 10639: 2, 68320: 3, 30222: 2, 113138: 3, 109016: 2, 56117: 3}, 'degree': 1, 'marked': False, 'centrality': 0}, 53681: {'linked': [84424], 'distances': {39238: 2, 77580: 3, 61472: 3, 45242: 2, 132445: 2, 44011: 3, 125345: 3, 120454: 3, 70618: 3, 58458: 2, 92552: 3, 10639: 2, 68320: 3, 30222: 2, 113138: 3, 109016: 2, 56117: 3}, 'degree': 1, 'marked': False, 'centrality': 0}, 57537: {'linked': [84424], 'distances': {39238: 2, 77580: 3, 61472: 3, 45242: 2, 132445: 2, 44011: 3, 125345: 3, 120454: 3, 70618: 3, 58458: 2, 92552: 3, 10639: 2, 68320: 3, 30222: 2, 113138: 3, 109016: 2, 56117: 3}, 'degree': 1, 'marked': False, 'centrality': 0}, 58458: {'linked': [84424], 'distances': {39238: 2, 77580: 3, 61472: 3, 45242: 2, 132445: 2, 44011: 3, 125345: 3, 120454: 3, 70618: 3, 58458: 0, 92552: 3, 10639: 2, 68320: 3, 30222: 2, 113138: 3, 109016: 2, 56117: 3}, 'degree': 1, 'marked': False, 'centrality': 2.539325842696629}, 59326: {'linked': [84424], 'distances': {39238: 2, 77580: 3, 61472: 3, 45242: 2, 132445: 2, 44011: 3, 125345: 3, 120454: 3, 70618: 3, 58458: 2, 92552: 3, 10639: 2, 68320: 3, 30222: 2, 113138: 3, 109016: 2, 56117: 3}, 'degree': 1, 'marked': False, 'centrality': 0}, 61571: {'linked': [84424, 94138], 'distances': {39238: 2, 77580: 2, 61472: 2, 45242: 2, 132445: 2, 44011: 2, 125345: 3, 120454: 2, 70618: 2, 58458: 2, 92552: 3, 10639: 2, 68320: 3, 30222: 2, 113138: 3, 109016: 2, 56117: 2}, 'degree': 2, 'marked': False, 'centrality': 0}, 63552: {'linked': [84424], 'distances': {39238: 2, 77580: 3, 61472: 3, 45242: 2, 132445: 2, 44011: 3, 125345: 3, 120454: 3, 70618: 3, 58458: 2, 92552: 3, 10639: 2, 68320: 3, 30222: 2, 113138: 3, 109016: 2, 56117: 3}, 'degree': 1, 'marked': False, 'centrality': 0}, 64124: {'linked': [84424, 94138], 'distances': {39238: 2, 77580: 2, 61472: 2, 45242: 2, 132445: 2, 44011: 2, 125345: 3, 120454: 2, 70618: 2, 58458: 2, 92552: 3, 10639: 2, 68320: 3, 30222: 2, 113138: 3, 109016: 2, 56117: 2}, 'degree': 2, 'marked': False, 'centrality': 0}, 64568: {'linked': [84424], 'distances': {39238: 2, 77580: 3, 61472: 3, 45242: 2, 132445: 2, 44011: 3, 125345: 3, 120454: 3, 70618: 3, 58458: 2, 92552: 3, 10639: 2, 68320: 3, 30222: 2, 113138: 3, 109016: 2, 56117: 3}, 'degree': 1, 'marked': False, 'centrality': 0}, 66200: {'linked': [84424], 'distances': {39238: 2, 77580: 3, 61472: 3, 45242: 2, 132445: 2, 44011: 3, 125345: 3, 120454: 3, 70618: 3, 58458: 2, 92552: 3, 10639: 2, 68320: 3, 30222: 2, 113138: 3, 109016: 2, 56117: 3}, 'degree': 1, 'marked': False, 'centrality': 0}, 69839: {'linked': [84424], 'distances': {39238: 2, 77580: 3, 61472: 3, 45242: 2, 132445: 2, 44011: 3, 125345: 3, 120454: 3, 70618: 3, 58458: 2, 92552: 3, 10639: 2, 68320: 3, 30222: 2, 113138: 3, 109016: 2, 56117: 3}, 'degree': 1, 'marked': False, 'centrality': 0}, 72391: {'linked': [84424], 'distances': {39238: 2, 77580: 3, 61472: 3, 45242: 2, 132445: 2, 44011: 3, 125345: 3, 120454: 3, 70618: 3, 58458: 2, 92552: 3, 10639: 2, 68320: 3, 30222: 2, 113138: 3, 109016: 2, 56117: 3}, 'degree': 1, 'marked': False, 'centrality': 0}, 73543: {'linked': [84424, 89308, 94138], 'distances': {39238: 2, 77580: 2, 61472: 2, 45242: 2, 132445: 2, 44011: 2, 125345: 2, 120454: 2, 70618: 2, 58458: 2, 92552: 2, 10639: 2, 68320: 2, 30222: 2, 113138: 2, 109016: 2, 56117: 2}, 'degree': 3, 'marked': False, 'centrality': 0}, 76259: {'linked': [84424], 'distances': {39238: 2, 77580: 3, 61472: 3, 45242: 2, 132445: 2, 44011: 3, 125345: 3, 120454: 3, 70618: 3, 58458: 2, 92552: 3, 10639: 2, 68320: 3, 30222: 2, 113138: 3, 109016: 2, 56117: 3}, 'degree': 1, 'marked': False, 'centrality': 0}, 77098: {'linked': [84424], 'distances': {39238: 2, 77580: 3, 61472: 3, 45242: 2, 132445: 2, 44011: 3, 125345: 3, 120454: 3, 70618: 3, 58458: 2, 92552: 3, 10639: 2, 68320: 3, 30222: 2, 113138: 3, 109016: 2, 56117: 3}, 'degree': 1, 'marked': False, 'centrality': 0}, 77915: {'linked': [84424], 'distances': {39238: 2, 77580: 3, 61472: 3, 45242: 2, 132445: 2, 44011: 3, 125345: 3, 120454: 3, 70618: 3, 58458: 2, 92552: 3, 10639: 2, 68320: 3, 30222: 2, 113138: 3, 109016: 2, 56117: 3}, 'degree': 1, 'marked': False, 'centrality': 0}, 78627: {'linked': [84424], 'distances': {39238: 2, 77580: 3, 61472: 3, 45242: 2, 132445: 2, 44011: 3, 125345: 3, 120454: 3, 70618: 3, 58458: 2, 92552: 3, 10639: 2, 68320: 3, 30222: 2, 113138: 3, 109016: 2, 56117: 3}, 'degree': 1, 'marked': False, 'centrality': 0}, 83560: {'linked': [84424], 'distances': {39238: 2, 77580: 3, 61472: 3, 45242: 2, 132445: 2, 44011: 3, 125345: 3, 120454: 3, 70618: 3, 58458: 2, 92552: 3, 10639: 2, 68320: 3, 30222: 2, 113138: 3, 109016: 2, 56117: 3}, 'degree': 1, 'marked': False, 'centrality': 0}, 85420: {'linked': [84424], 'distances': {39238: 2, 77580: 3, 61472: 3, 45242: 2, 132445: 2, 44011: 3, 125345: 3, 120454: 3, 70618: 3, 58458: 2, 92552: 3, 10639: 2, 68320: 3, 30222: 2, 113138: 3, 109016: 2, 56117: 3}, 'degree': 1, 'marked': False, 'centrality': 0}, 88768: {'linked': [84424], 'distances': {39238: 2, 77580: 3, 61472: 3, 45242: 2, 132445: 2, 44011: 3, 125345: 3, 120454: 3, 70618: 3, 58458: 2, 92552: 3, 10639: 2, 68320: 3, 30222: 2, 113138: 3, 109016: 2, 56117: 3}, 'degree': 1, 'marked': False, 'centrality': 0}, 89131: {'linked': [84424], 'distances': {39238: 2, 77580: 3, 61472: 3, 45242: 2, 132445: 2, 44011: 3, 125345: 3, 120454: 3, 70618: 3, 58458: 2, 92552: 3, 10639: 2, 68320: 3, 30222: 2, 113138: 3, 109016: 2, 56117: 3}, 'degree': 1, 'marked': False, 'centrality': 0}, 89308: {'linked': [84424, 560, 15829, 42972, 55528, 57618, 60310, 63707, 63769, 68320, 73543, 75607, 92552, 93762, 93889, 94138, 95860, 96909, 99870, 112293, 113138, 116343, 116453, 118859, 121831, 122003, 123268, 125345, 127886, 129530, 129910, 132104], 'distances': {39238: 2, 77580: 2, 61472: 2, 45242: 2, 132445: 2, 44011: 2, 125345: 1, 120454: 2, 70618: 2, 58458: 2, 92552: 1, 10639: 2, 68320: 1, 30222: 2, 113138: 1, 109016: 2, 56117: 2}, 'degree': 32, 'marked': False, 'centrality': 0}, 89994: {'linked': [84424, 94138], 'distances': {39238: 2, 77580: 2, 61472: 2, 45242: 2, 132445: 2, 44011: 2, 125345: 3, 120454: 2, 70618: 2, 58458: 2, 92552: 3, 10639: 2, 68320: 3, 30222: 2, 113138: 3, 109016: 2, 56117: 2}, 'degree': 2, 'marked': False, 'centrality': 0}, 90506: {'linked': [84424], 'distances': {39238: 2, 77580: 3, 61472: 3, 45242: 2, 132445: 2, 44011: 3, 125345: 3, 120454: 3, 70618: 3, 58458: 2, 92552: 3, 10639: 2, 68320: 3, 30222: 2, 113138: 3, 109016: 2, 56117: 3}, 'degree': 1, 'marked': False, 'centrality': 0}, 91060: {'linked': [84424], 'distances': {39238: 2, 77580: 3, 61472: 3, 45242: 2, 132445: 2, 44011: 3, 125345: 3, 120454: 3, 70618: 3, 58458: 2, 92552: 3, 10639: 2, 68320: 3, 30222: 2, 113138: 3, 109016: 2, 56117: 3}, 'degree': 1, 'marked': False, 'centrality': 0}, 92387: {'linked': [84424], 'distances': {39238: 2, 77580: 3, 61472: 3, 45242: 2, 132445: 2, 44011: 3, 125345: 3, 120454: 3, 70618: 3, 58458: 2, 92552: 3, 10639: 2, 68320: 3, 30222: 2, 113138: 3, 109016: 2, 56117: 3}, 'degree': 1, 'marked': False, 'centrality': 0}, 93296: {'linked': [84424], 'distances': {39238: 2, 77580: 3, 61472: 3, 45242: 2, 132445: 2, 44011: 3, 125345: 3, 120454: 3, 70618: 3, 58458: 2, 92552: 3, 10639: 2, 68320: 3, 30222: 2, 113138: 3, 109016: 2, 56117: 3}, 'degree': 1, 'marked': False, 'centrality': 0}, 94138: {'linked': [84424, 89308, 2175, 3365, 4279, 4930, 5335, 8445, 9039, 10976, 11050, 11580, 19204, 21937, 23986, 24075, 26526, 28516, 28787, 31404, 33777, 34608, 35729, 36907, 37861, 38921, 42512, 42994, 44011, 46847, 47856, 50991, 52870, 53890, 55233, 56117, 58532, 59151, 59173, 60390, 61461, 61472, 61571, 61686, 61929, 62496, 64054, 64124, 65114, 65794, 66766, 68639, 69582, 70618, 72233, 72941, 73543, 74612, 77580, 79936, 83003, 84150, 87214, 87237, 89994, 92504, 94235, 95822, 101953, 104802, 105827, 109016, 110499, 112243, 115344, 118103, 118630, 118958, 120454, 126152, 130165], 'distances': {39238: 2, 77580: 1, 61472: 1, 45242: 2, 132445: 2, 44011: 1, 125345: 2, 120454: 1, 70618: 1, 58458: 2, 92552: 2, 10639: 2, 68320: 2, 30222: 2, 113138: 2, 109016: 1, 56117: 1}, 'degree': 81, 'marked': False, 'centrality': 0}, 94329: {'linked': [84424], 'distances': {39238: 2, 77580: 3, 61472: 3, 45242: 2, 132445: 2, 44011: 3, 125345: 3, 120454: 3, 70618: 3, 58458: 2, 92552: 3, 10639: 2, 68320: 3, 30222: 2, 113138: 3, 109016: 2, 56117: 3}, 'degree': 1, 'marked': False, 'centrality': 0}, 95070: {'linked': [84424], 'distances': {39238: 2, 77580: 3, 61472: 3, 45242: 2, 132445: 2, 44011: 3, 125345: 3, 120454: 3, 70618: 3, 58458: 2, 92552: 3, 10639: 2, 68320: 3, 30222: 2, 113138: 3, 109016: 2, 56117: 3}, 'degree': 1, 'marked': False, 'centrality': 0}, 95531: {'linked': [84424], 'distances': {39238: 2, 77580: 3, 61472: 3, 45242: 2, 132445: 2, 44011: 3, 125345: 3, 120454: 3, 70618: 3, 58458: 2, 92552: 3, 10639: 2, 68320: 3, 30222: 2, 113138: 3, 109016: 2, 56117: 3}, 'degree': 1, 'marked': False, 'centrality': 0}, 96570: {'linked': [84424], 'distances': {39238: 2, 77580: 3, 61472: 3, 45242: 2, 132445: 2, 44011: 3, 125345: 3, 120454: 3, 70618: 3, 58458: 2, 92552: 3, 10639: 2, 68320: 3, 30222: 2, 113138: 3, 109016: 2, 56117: 3}, 'degree': 1, 'marked': False, 'centrality': 0}, 97101: {'linked': [84424], 'distances': {39238: 2, 77580: 3, 61472: 3, 45242: 2, 132445: 2, 44011: 3, 125345: 3, 120454: 3, 70618: 3, 58458: 2, 92552: 3, 10639: 2, 68320: 3, 30222: 2, 113138: 3, 109016: 2, 56117: 3}, 'degree': 1, 'marked': False, 'centrality': 0}, 98506: {'linked': [84424], 'distances': {39238: 2, 77580: 3, 61472: 3, 45242: 2, 132445: 2, 44011: 3, 125345: 3, 120454: 3, 70618: 3, 58458: 2, 92552: 3, 10639: 2, 68320: 3, 30222: 2, 113138: 3, 109016: 2, 56117: 3}, 'degree': 1, 'marked': False, 'centrality': 0}, 99104: {'linked': [84424], 'distances': {39238: 2, 77580: 3, 61472: 3, 45242: 2, 132445: 2, 44011: 3, 125345: 3, 120454: 3, 70618: 3, 58458: 2, 92552: 3, 10639: 2, 68320: 3, 30222: 2, 113138: 3, 109016: 2, 56117: 3}, 'degree': 1, 'marked': False, 'centrality': 0}, 104802: {'linked': [84424, 94138], 'distances': {39238: 2, 77580: 2, 61472: 2, 45242: 2, 132445: 2, 44011: 2, 125345: 3, 120454: 2, 70618: 2, 58458: 2, 92552: 3, 10639: 2, 68320: 3, 30222: 2, 113138: 3, 109016: 2, 56117: 2}, 'degree': 2, 'marked': False, 'centrality': 0}, 106611: {'linked': [84424], 'distances': {39238: 2, 77580: 3, 61472: 3, 45242: 2, 132445: 2, 44011: 3, 125345: 3, 120454: 3, 70618: 3, 58458: 2, 92552: 3, 10639: 2, 68320: 3, 30222: 2, 113138: 3, 109016: 2, 56117: 3}, 'degree': 1, 'marked': False, 'centrality': 0}, 107829: {'linked': [84424], 'distances': {39238: 2, 77580: 3, 61472: 3, 45242: 2, 132445: 2, 44011: 3, 125345: 3, 120454: 3, 70618: 3, 58458: 2, 92552: 3, 10639: 2, 68320: 3, 30222: 2, 113138: 3, 109016: 2, 56117: 3}, 'degree': 1, 'marked': False, 'centrality': 0}, 109016: {'linked': [84424, 94138], 'distances': {39238: 2, 77580: 2, 61472: 2, 45242: 2, 132445: 2, 44011: 2, 125345: 3, 120454: 2, 70618: 2, 58458: 2, 92552: 3, 10639: 2, 68320: 3, 30222: 2, 113138: 3, 109016: 0, 56117: 2}, 'degree': 2, 'marked': False, 'centrality': 2.1292134831460676}, 112605: {'linked': [84424], 'distances': {39238: 2, 77580: 3, 61472: 3, 45242: 2, 132445: 2, 44011: 3, 125345: 3, 120454: 3, 70618: 3, 58458: 2, 92552: 3, 10639: 2, 68320: 3, 30222: 2, 113138: 3, 109016: 2, 56117: 3}, 'degree': 1, 'marked': False, 'centrality': 0}, 117751: {'linked': [84424], 'distances': {39238: 2, 77580: 3, 61472: 3, 45242: 2, 132445: 2, 44011: 3, 125345: 3, 120454: 3, 70618: 3, 58458: 2, 92552: 3, 10639: 2, 68320: 3, 30222: 2, 113138: 3, 109016: 2, 56117: 3}, 'degree': 1, 'marked': False, 'centrality': 0}, 122908: {'linked': [84424], 'distances': {39238: 2, 77580: 3, 61472: 3, 45242: 2, 132445: 2, 44011: 3, 125345: 3, 120454: 3, 70618: 3, 58458: 2, 92552: 3, 10639: 2, 68320: 3, 30222: 2, 113138: 3, 109016: 2, 56117: 3}, 'degree': 1, 'marked': False, 'centrality': 0}, 124023: {'linked': [84424], 'distances': {39238: 2, 77580: 3, 61472: 3, 45242: 2, 132445: 2, 44011: 3, 125345: 3, 120454: 3, 70618: 3, 58458: 2, 92552: 3, 10639: 2, 68320: 3, 30222: 2, 113138: 3, 109016: 2, 56117: 3}, 'degree': 1, 'marked': False, 'centrality': 0}, 125190: {'linked': [84424], 'distances': {39238: 2, 77580: 3, 61472: 3, 45242: 2, 132445: 2, 44011: 3, 125345: 3, 120454: 3, 70618: 3, 58458: 2, 92552: 3, 10639: 2, 68320: 3, 30222: 2, 113138: 3, 109016: 2, 56117: 3}, 'degree': 1, 'marked': False, 'centrality': 0}, 130825: {'linked': [84424], 'distances': {39238: 2, 77580: 3, 61472: 3, 45242: 2, 132445: 2, 44011: 3, 125345: 3, 120454: 3, 70618: 3, 58458: 2, 92552: 3, 10639: 2, 68320: 3, 30222: 2, 113138: 3, 109016: 2, 56117: 3}, 'degree': 1, 'marked': False, 'centrality': 0}, 132445: {'linked': [84424], 'distances': {39238: 2, 77580: 3, 61472: 3, 45242: 2, 132445: 0, 44011: 3, 125345: 3, 120454: 3, 70618: 3, 58458: 2, 92552: 3, 10639: 2, 68320: 3, 30222: 2, 113138: 3, 109016: 2, 56117: 3}, 'degree': 1, 'marked': False, 'centrality': 2.539325842696629}, 560: {'linked': [89308], 'distances': {39238: 3, 77580: 3, 61472: 3, 45242: 3, 132445: 3, 44011: 3, 125345: 2, 120454: 3, 70618: 3, 58458: 3, 92552: 2, 10639: 3, 68320: 2, 30222: 3, 113138: 2, 109016: 3, 56117: 3}, 'degree': 1, 'marked': False, 'centrality': 0}, 15829: {'linked': [89308], 'distances': {39238: 3, 77580: 3, 61472: 3, 45242: 3, 132445: 3, 44011: 3, 125345: 2, 120454: 3, 70618: 3, 58458: 3, 92552: 2, 10639: 3, 68320: 2, 30222: 3, 113138: 2, 109016: 3, 56117: 3}, 'degree': 1, 'marked': False, 'centrality': 0}, 42972: {'linked': [89308], 'distances': {39238: 3, 77580: 3, 61472: 3, 45242: 3, 132445: 3, 44011: 3, 125345: 2, 120454: 3, 70618: 3, 58458: 3, 92552: 2, 10639: 3, 68320: 2, 30222: 3, 113138: 2, 109016: 3, 56117: 3}, 'degree': 1, 'marked': False, 'centrality': 0}, 55528: {'linked': [89308], 'distances': {39238: 3, 77580: 3, 61472: 3, 45242: 3, 132445: 3, 44011: 3, 125345: 2, 120454: 3, 70618: 3, 58458: 3, 92552: 2, 10639: 3, 68320: 2, 30222: 3, 113138: 2, 109016: 3, 56117: 3}, 'degree': 1, 'marked': False, 'centrality': 0}, 57618: {'linked': [89308], 'distances': {39238: 3, 77580: 3, 61472: 3, 45242: 3, 132445: 3, 44011: 3, 125345: 2, 120454: 3, 70618: 3, 58458: 3, 92552: 2, 10639: 3, 68320: 2, 30222: 3, 113138: 2, 109016: 3, 56117: 3}, 'degree': 1, 'marked': False, 'centrality': 0}, 60310: {'linked': [89308], 'distances': {39238: 3, 77580: 3, 61472: 3, 45242: 3, 132445: 3, 44011: 3, 125345: 2, 120454: 3, 70618: 3, 58458: 3, 92552: 2, 10639: 3, 68320: 2, 30222: 3, 113138: 2, 109016: 3, 56117: 3}, 'degree': 1, 'marked': False, 'centrality': 0}, 63707: {'linked': [89308], 'distances': {39238: 3, 77580: 3, 61472: 3, 45242: 3, 132445: 3, 44011: 3, 125345: 2, 120454: 3, 70618: 3, 58458: 3, 92552: 2, 10639: 3, 68320: 2, 30222: 3, 113138: 2, 109016: 3, 56117: 3}, 'degree': 1, 'marked': False, 'centrality': 0}, 63769: {'linked': [89308], 'distances': {39238: 3, 77580: 3, 61472: 3, 45242: 3, 132445: 3, 44011: 3, 125345: 2, 120454: 3, 70618: 3, 58458: 3, 92552: 2, 10639: 3, 68320: 2, 30222: 3, 113138: 2, 109016: 3, 56117: 3}, 'degree': 1, 'marked': False, 'centrality': 0}, 68320: {'linked': [89308], 'distances': {39238: 3, 77580: 3, 61472: 3, 45242: 3, 132445: 3, 44011: 3, 125345: 2, 120454: 3, 70618: 3, 58458: 3, 92552: 2, 10639: 3, 68320: 0, 30222: 3, 113138: 2, 109016: 3, 56117: 3}, 'degree': 1, 'marked': False, 'centrality': 2.7808988764044944}, 75607: {'linked': [89308], 'distances': {39238: 3, 77580: 3, 61472: 3, 45242: 3, 132445: 3, 44011: 3, 125345: 2, 120454: 3, 70618: 3, 58458: 3, 92552: 2, 10639: 3, 68320: 2, 30222: 3, 113138: 2, 109016: 3, 56117: 3}, 'degree': 1, 'marked': False, 'centrality': 0}, 92552: {'linked': [89308], 'distances': {39238: 3, 77580: 3, 61472: 3, 45242: 3, 132445: 3, 44011: 3, 125345: 2, 120454: 3, 70618: 3, 58458: 3, 92552: 0, 10639: 3, 68320: 2, 30222: 3, 113138: 2, 109016: 3, 56117: 3}, 'degree': 1, 'marked': False, 'centrality': 2.7808988764044944}, 93762: {'linked': [89308], 'distances': {39238: 3, 77580: 3, 61472: 3, 45242: 3, 132445: 3, 44011: 3, 125345: 2, 120454: 3, 70618: 3, 58458: 3, 92552: 2, 10639: 3, 68320: 2, 30222: 3, 113138: 2, 109016: 3, 56117: 3}, 'degree': 1, 'marked': False, 'centrality': 0}, 93889: {'linked': [89308], 'distances': {39238: 3, 77580: 3, 61472: 3, 45242: 3, 132445: 3, 44011: 3, 125345: 2, 120454: 3, 70618: 3, 58458: 3, 92552: 2, 10639: 3, 68320: 2, 30222: 3, 113138: 2, 109016: 3, 56117: 3}, 'degree': 1, 'marked': False, 'centrality': 0}, 95860: {'linked': [89308], 'distances': {39238: 3, 77580: 3, 61472: 3, 45242: 3, 132445: 3, 44011: 3, 125345: 2, 120454: 3, 70618: 3, 58458: 3, 92552: 2, 10639: 3, 68320: 2, 30222: 3, 113138: 2, 109016: 3, 56117: 3}, 'degree': 1, 'marked': False, 'centrality': 0}, 96909: {'linked': [89308], 'distances': {39238: 3, 77580: 3, 61472: 3, 45242: 3, 132445: 3, 44011: 3, 125345: 2, 120454: 3, 70618: 3, 58458: 3, 92552: 2, 10639: 3, 68320: 2, 30222: 3, 113138: 2, 109016: 3, 56117: 3}, 'degree': 1, 'marked': False, 'centrality': 0}, 99870: {'linked': [89308], 'distances': {39238: 3, 77580: 3, 61472: 3, 45242: 3, 132445: 3, 44011: 3, 125345: 2, 120454: 3, 70618: 3, 58458: 3, 92552: 2, 10639: 3, 68320: 2, 30222: 3, 113138: 2, 109016: 3, 56117: 3}, 'degree': 1, 'marked': False, 'centrality': 0}, 112293: {'linked': [89308], 'distances': {39238: 3, 77580: 3, 61472: 3, 45242: 3, 132445: 3, 44011: 3, 125345: 2, 120454: 3, 70618: 3, 58458: 3, 92552: 2, 10639: 3, 68320: 2, 30222: 3, 113138: 2, 109016: 3, 56117: 3}, 'degree': 1, 'marked': False, 'centrality': 0}, 113138: {'linked': [89308], 'distances': {39238: 3, 77580: 3, 61472: 3, 45242: 3, 132445: 3, 44011: 3, 125345: 2, 120454: 3, 70618: 3, 58458: 3, 92552: 2, 10639: 3, 68320: 2, 30222: 3, 113138: 0, 109016: 3, 56117: 3}, 'degree': 1, 'marked': False, 'centrality': 2.7808988764044944}, 116343: {'linked': [89308], 'distances': {39238: 3, 77580: 3, 61472: 3, 45242: 3, 132445: 3, 44011: 3, 125345: 2, 120454: 3, 70618: 3, 58458: 3, 92552: 2, 10639: 3, 68320: 2, 30222: 3, 113138: 2, 109016: 3, 56117: 3}, 'degree': 1, 'marked': False, 'centrality': 0}, 116453: {'linked': [89308], 'distances': {39238: 3, 77580: 3, 61472: 3, 45242: 3, 132445: 3, 44011: 3, 125345: 2, 120454: 3, 70618: 3, 58458: 3, 92552: 2, 10639: 3, 68320: 2, 30222: 3, 113138: 2, 109016: 3, 56117: 3}, 'degree': 1, 'marked': False, 'centrality': 0}, 118859: {'linked': [89308], 'distances': {39238: 3, 77580: 3, 61472: 3, 45242: 3, 132445: 3, 44011: 3, 125345: 2, 120454: 3, 70618: 3, 58458: 3, 92552: 2, 10639: 3, 68320: 2, 30222: 3, 113138: 2, 109016: 3, 56117: 3}, 'degree': 1, 'marked': False, 'centrality': 0}, 121831: {'linked': [89308], 'distances': {39238: 3, 77580: 3, 61472: 3, 45242: 3, 132445: 3, 44011: 3, 125345: 2, 120454: 3, 70618: 3, 58458: 3, 92552: 2, 10639: 3, 68320: 2, 30222: 3, 113138: 2, 109016: 3, 56117: 3}, 'degree': 1, 'marked': False, 'centrality': 0}, 122003: {'linked': [89308], 'distances': {39238: 3, 77580: 3, 61472: 3, 45242: 3, 132445: 3, 44011: 3, 125345: 2, 120454: 3, 70618: 3, 58458: 3, 92552: 2, 10639: 3, 68320: 2, 30222: 3, 113138: 2, 109016: 3, 56117: 3}, 'degree': 1, 'marked': False, 'centrality': 0}, 123268: {'linked': [89308], 'distances': {39238: 3, 77580: 3, 61472: 3, 45242: 3, 132445: 3, 44011: 3, 125345: 2, 120454: 3, 70618: 3, 58458: 3, 92552: 2, 10639: 3, 68320: 2, 30222: 3, 113138: 2, 109016: 3, 56117: 3}, 'degree': 1, 'marked': False, 'centrality': 0}, 125345: {'linked': [89308], 'distances': {39238: 3, 77580: 3, 61472: 3, 45242: 3, 132445: 3, 44011: 3, 125345: 0, 120454: 3, 70618: 3, 58458: 3, 92552: 2, 10639: 3, 68320: 2, 30222: 3, 113138: 2, 109016: 3, 56117: 3}, 'degree': 1, 'marked': False, 'centrality': 2.7808988764044944}, 127886: {'linked': [89308], 'distances': {39238: 3, 77580: 3, 61472: 3, 45242: 3, 132445: 3, 44011: 3, 125345: 2, 120454: 3, 70618: 3, 58458: 3, 92552: 2, 10639: 3, 68320: 2, 30222: 3, 113138: 2, 109016: 3, 56117: 3}, 'degree': 1, 'marked': False, 'centrality': 0}, 129530: {'linked': [89308], 'distances': {39238: 3, 77580: 3, 61472: 3, 45242: 3, 132445: 3, 44011: 3, 125345: 2, 120454: 3, 70618: 3, 58458: 3, 92552: 2, 10639: 3, 68320: 2, 30222: 3, 113138: 2, 109016: 3, 56117: 3}, 'degree': 1, 'marked': False, 'centrality': 0}, 129910: {'linked': [89308], 'distances': {39238: 3, 77580: 3, 61472: 3, 45242: 3, 132445: 3, 44011: 3, 125345: 2, 120454: 3, 70618: 3, 58458: 3, 92552: 2, 10639: 3, 68320: 2, 30222: 3, 113138: 2, 109016: 3, 56117: 3}, 'degree': 1, 'marked': False, 'centrality': 0}, 132104: {'linked': [89308], 'distances': {39238: 3, 77580: 3, 61472: 3, 45242: 3, 132445: 3, 44011: 3, 125345: 2, 120454: 3, 70618: 3, 58458: 3, 92552: 2, 10639: 3, 68320: 2, 30222: 3, 113138: 2, 109016: 3, 56117: 3}, 'degree': 1, 'marked': False, 'centrality': 0}, 2175: {'linked': [94138], 'distances': {39238: 3, 77580: 2, 61472: 2, 45242: 3, 132445: 3, 44011: 2, 125345: 3, 120454: 2, 70618: 2, 58458: 3, 92552: 3, 10639: 3, 68320: 3, 30222: 3, 113138: 3, 109016: 2, 56117: 2}, 'degree': 1, 'marked': False, 'centrality': 0}, 3365: {'linked': [94138], 'distances': {39238: 3, 77580: 2, 61472: 2, 45242: 3, 132445: 3, 44011: 2, 125345: 3, 120454: 2, 70618: 2, 58458: 3, 92552: 3, 10639: 3, 68320: 3, 30222: 3, 113138: 3, 109016: 2, 56117: 2}, 'degree': 1, 'marked': False, 'centrality': 0}, 4279: {'linked': [94138], 'distances': {39238: 3, 77580: 2, 61472: 2, 45242: 3, 132445: 3, 44011: 2, 125345: 3, 120454: 2, 70618: 2, 58458: 3, 92552: 3, 10639: 3, 68320: 3, 30222: 3, 113138: 3, 109016: 2, 56117: 2}, 'degree': 1, 'marked': False, 'centrality': 0}, 4930: {'linked': [94138], 'distances': {39238: 3, 77580: 2, 61472: 2, 45242: 3, 132445: 3, 44011: 2, 125345: 3, 120454: 2, 70618: 2, 58458: 3, 92552: 3, 10639: 3, 68320: 3, 30222: 3, 113138: 3, 109016: 2, 56117: 2}, 'degree': 1, 'marked': False, 'centrality': 0}, 5335: {'linked': [94138], 'distances': {39238: 3, 77580: 2, 61472: 2, 45242: 3, 132445: 3, 44011: 2, 125345: 3, 120454: 2, 70618: 2, 58458: 3, 92552: 3, 10639: 3, 68320: 3, 30222: 3, 113138: 3, 109016: 2, 56117: 2}, 'degree': 1, 'marked': False, 'centrality': 0}, 8445: {'linked': [94138], 'distances': {39238: 3, 77580: 2, 61472: 2, 45242: 3, 132445: 3, 44011: 2, 125345: 3, 120454: 2, 70618: 2, 58458: 3, 92552: 3, 10639: 3, 68320: 3, 30222: 3, 113138: 3, 109016: 2, 56117: 2}, 'degree': 1, 'marked': False, 'centrality': 0}, 9039: {'linked': [94138], 'distances': {39238: 3, 77580: 2, 61472: 2, 45242: 3, 132445: 3, 44011: 2, 125345: 3, 120454: 2, 70618: 2, 58458: 3, 92552: 3, 10639: 3, 68320: 3, 30222: 3, 113138: 3, 109016: 2, 56117: 2}, 'degree': 1, 'marked': False, 'centrality': 0}, 10976: {'linked': [94138], 'distances': {39238: 3, 77580: 2, 61472: 2, 45242: 3, 132445: 3, 44011: 2, 125345: 3, 120454: 2, 70618: 2, 58458: 3, 92552: 3, 10639: 3, 68320: 3, 30222: 3, 113138: 3, 109016: 2, 56117: 2}, 'degree': 1, 'marked': False, 'centrality': 0}, 11050: {'linked': [94138], 'distances': {39238: 3, 77580: 2, 61472: 2, 45242: 3, 132445: 3, 44011: 2, 125345: 3, 120454: 2, 70618: 2, 58458: 3, 92552: 3, 10639: 3, 68320: 3, 30222: 3, 113138: 3, 109016: 2, 56117: 2}, 'degree': 1, 'marked': False, 'centrality': 0}, 11580: {'linked': [94138], 'distances': {39238: 3, 77580: 2, 61472: 2, 45242: 3, 132445: 3, 44011: 2, 125345: 3, 120454: 2, 70618: 2, 58458: 3, 92552: 3, 10639: 3, 68320: 3, 30222: 3, 113138: 3, 109016: 2, 56117: 2}, 'degree': 1, 'marked': False, 'centrality': 0}, 19204: {'linked': [94138], 'distances': {39238: 3, 77580: 2, 61472: 2, 45242: 3, 132445: 3, 44011: 2, 125345: 3, 120454: 2, 70618: 2, 58458: 3, 92552: 3, 10639: 3, 68320: 3, 30222: 3, 113138: 3, 109016: 2, 56117: 2}, 'degree': 1, 'marked': False, 'centrality': 0}, 23986: {'linked': [94138], 'distances': {39238: 3, 77580: 2, 61472: 2, 45242: 3, 132445: 3, 44011: 2, 125345: 3, 120454: 2, 70618: 2, 58458: 3, 92552: 3, 10639: 3, 68320: 3, 30222: 3, 113138: 3, 109016: 2, 56117: 2}, 'degree': 1, 'marked': False, 'centrality': 0}, 24075: {'linked': [94138], 'distances': {39238: 3, 77580: 2, 61472: 2, 45242: 3, 132445: 3, 44011: 2, 125345: 3, 120454: 2, 70618: 2, 58458: 3, 92552: 3, 10639: 3, 68320: 3, 30222: 3, 113138: 3, 109016: 2, 56117: 2}, 'degree': 1, 'marked': False, 'centrality': 0}, 26526: {'linked': [94138], 'distances': {39238: 3, 77580: 2, 61472: 2, 45242: 3, 132445: 3, 44011: 2, 125345: 3, 120454: 2, 70618: 2, 58458: 3, 92552: 3, 10639: 3, 68320: 3, 30222: 3, 113138: 3, 109016: 2, 56117: 2}, 'degree': 1, 'marked': False, 'centrality': 0}, 28516: {'linked': [94138], 'distances': {39238: 3, 77580: 2, 61472: 2, 45242: 3, 132445: 3, 44011: 2, 125345: 3, 120454: 2, 70618: 2, 58458: 3, 92552: 3, 10639: 3, 68320: 3, 30222: 3, 113138: 3, 109016: 2, 56117: 2}, 'degree': 1, 'marked': False, 'centrality': 0}, 28787: {'linked': [94138], 'distances': {39238: 3, 77580: 2, 61472: 2, 45242: 3, 132445: 3, 44011: 2, 125345: 3, 120454: 2, 70618: 2, 58458: 3, 92552: 3, 10639: 3, 68320: 3, 30222: 3, 113138: 3, 109016: 2, 56117: 2}, 'degree': 1, 'marked': False, 'centrality': 0}, 31404: {'linked': [94138], 'distances': {39238: 3, 77580: 2, 61472: 2, 45242: 3, 132445: 3, 44011: 2, 125345: 3, 120454: 2, 70618: 2, 58458: 3, 92552: 3, 10639: 3, 68320: 3, 30222: 3, 113138: 3, 109016: 2, 56117: 2}, 'degree': 1, 'marked': False, 'centrality': 0}, 33777: {'linked': [94138], 'distances': {39238: 3, 77580: 2, 61472: 2, 45242: 3, 132445: 3, 44011: 2, 125345: 3, 120454: 2, 70618: 2, 58458: 3, 92552: 3, 10639: 3, 68320: 3, 30222: 3, 113138: 3, 109016: 2, 56117: 2}, 'degree': 1, 'marked': False, 'centrality': 0}, 34608: {'linked': [94138], 'distances': {39238: 3, 77580: 2, 61472: 2, 45242: 3, 132445: 3, 44011: 2, 125345: 3, 120454: 2, 70618: 2, 58458: 3, 92552: 3, 10639: 3, 68320: 3, 30222: 3, 113138: 3, 109016: 2, 56117: 2}, 'degree': 1, 'marked': False, 'centrality': 0}, 35729: {'linked': [94138], 'distances': {39238: 3, 77580: 2, 61472: 2, 45242: 3, 132445: 3, 44011: 2, 125345: 3, 120454: 2, 70618: 2, 58458: 3, 92552: 3, 10639: 3, 68320: 3, 30222: 3, 113138: 3, 109016: 2, 56117: 2}, 'degree': 1, 'marked': False, 'centrality': 0}, 36907: {'linked': [94138], 'distances': {39238: 3, 77580: 2, 61472: 2, 45242: 3, 132445: 3, 44011: 2, 125345: 3, 120454: 2, 70618: 2, 58458: 3, 92552: 3, 10639: 3, 68320: 3, 30222: 3, 113138: 3, 109016: 2, 56117: 2}, 'degree': 1, 'marked': False, 'centrality': 0}, 37861: {'linked': [94138], 'distances': {39238: 3, 77580: 2, 61472: 2, 45242: 3, 132445: 3, 44011: 2, 125345: 3, 120454: 2, 70618: 2, 58458: 3, 92552: 3, 10639: 3, 68320: 3, 30222: 3, 113138: 3, 109016: 2, 56117: 2}, 'degree': 1, 'marked': False, 'centrality': 0}, 38921: {'linked': [94138], 'distances': {39238: 3, 77580: 2, 61472: 2, 45242: 3, 132445: 3, 44011: 2, 125345: 3, 120454: 2, 70618: 2, 58458: 3, 92552: 3, 10639: 3, 68320: 3, 30222: 3, 113138: 3, 109016: 2, 56117: 2}, 'degree': 1, 'marked': False, 'centrality': 0}, 42512: {'linked': [94138], 'distances': {39238: 3, 77580: 2, 61472: 2, 45242: 3, 132445: 3, 44011: 2, 125345: 3, 120454: 2, 70618: 2, 58458: 3, 92552: 3, 10639: 3, 68320: 3, 30222: 3, 113138: 3, 109016: 2, 56117: 2}, 'degree': 1, 'marked': False, 'centrality': 0}, 42994: {'linked': [94138], 'distances': {39238: 3, 77580: 2, 61472: 2, 45242: 3, 132445: 3, 44011: 2, 125345: 3, 120454: 2, 70618: 2, 58458: 3, 92552: 3, 10639: 3, 68320: 3, 30222: 3, 113138: 3, 109016: 2, 56117: 2}, 'degree': 1, 'marked': False, 'centrality': 0}, 44011: {'linked': [94138], 'distances': {39238: 3, 77580: 2, 61472: 2, 45242: 3, 132445: 3, 44011: 0, 125345: 3, 120454: 2, 70618: 2, 58458: 3, 92552: 3, 10639: 3, 68320: 3, 30222: 3, 113138: 3, 109016: 2, 56117: 2}, 'degree': 1, 'marked': False, 'centrality': 2.50561797752809}, 46847: {'linked': [94138], 'distances': {39238: 3, 77580: 2, 61472: 2, 45242: 3, 132445: 3, 44011: 2, 125345: 3, 120454: 2, 70618: 2, 58458: 3, 92552: 3, 10639: 3, 68320: 3, 30222: 3, 113138: 3, 109016: 2, 56117: 2}, 'degree': 1, 'marked': False, 'centrality': 0}, 47856: {'linked': [94138], 'distances': {39238: 3, 77580: 2, 61472: 2, 45242: 3, 132445: 3, 44011: 2, 125345: 3, 120454: 2, 70618: 2, 58458: 3, 92552: 3, 10639: 3, 68320: 3, 30222: 3, 113138: 3, 109016: 2, 56117: 2}, 'degree': 1, 'marked': False, 'centrality': 0}, 50991: {'linked': [94138], 'distances': {39238: 3, 77580: 2, 61472: 2, 45242: 3, 132445: 3, 44011: 2, 125345: 3, 120454: 2, 70618: 2, 58458: 3, 92552: 3, 10639: 3, 68320: 3, 30222: 3, 113138: 3, 109016: 2, 56117: 2}, 'degree': 1, 'marked': False, 'centrality': 0}, 52870: {'linked': [94138], 'distances': {39238: 3, 77580: 2, 61472: 2, 45242: 3, 132445: 3, 44011: 2, 125345: 3, 120454: 2, 70618: 2, 58458: 3, 92552: 3, 10639: 3, 68320: 3, 30222: 3, 113138: 3, 109016: 2, 56117: 2}, 'degree': 1, 'marked': False, 'centrality': 0}, 53890: {'linked': [94138], 'distances': {39238: 3, 77580: 2, 61472: 2, 45242: 3, 132445: 3, 44011: 2, 125345: 3, 120454: 2, 70618: 2, 58458: 3, 92552: 3, 10639: 3, 68320: 3, 30222: 3, 113138: 3, 109016: 2, 56117: 2}, 'degree': 1, 'marked': False, 'centrality': 0}, 55233: {'linked': [94138], 'distances': {39238: 3, 77580: 2, 61472: 2, 45242: 3, 132445: 3, 44011: 2, 125345: 3, 120454: 2, 70618: 2, 58458: 3, 92552: 3, 10639: 3, 68320: 3, 30222: 3, 113138: 3, 109016: 2, 56117: 2}, 'degree': 1, 'marked': False, 'centrality': 0}, 56117: {'linked': [94138], 'distances': {39238: 3, 77580: 2, 61472: 2, 45242: 3, 132445: 3, 44011: 2, 125345: 3, 120454: 2, 70618: 2, 58458: 3, 92552: 3, 10639: 3, 68320: 3, 30222: 3, 113138: 3, 109016: 2, 56117: 0}, 'degree': 1, 'marked': False, 'centrality': 2.50561797752809}, 58532: {'linked': [94138], 'distances': {39238: 3, 77580: 2, 61472: 2, 45242: 3, 132445: 3, 44011: 2, 125345: 3, 120454: 2, 70618: 2, 58458: 3, 92552: 3, 10639: 3, 68320: 3, 30222: 3, 113138: 3, 109016: 2, 56117: 2}, 'degree': 1, 'marked': False, 'centrality': 0}, 59151: {'linked': [94138], 'distances': {39238: 3, 77580: 2, 61472: 2, 45242: 3, 132445: 3, 44011: 2, 125345: 3, 120454: 2, 70618: 2, 58458: 3, 92552: 3, 10639: 3, 68320: 3, 30222: 3, 113138: 3, 109016: 2, 56117: 2}, 'degree': 1, 'marked': False, 'centrality': 0}, 59173: {'linked': [94138], 'distances': {39238: 3, 77580: 2, 61472: 2, 45242: 3, 132445: 3, 44011: 2, 125345: 3, 120454: 2, 70618: 2, 58458: 3, 92552: 3, 10639: 3, 68320: 3, 30222: 3, 113138: 3, 109016: 2, 56117: 2}, 'degree': 1, 'marked': False, 'centrality': 0}, 60390: {'linked': [94138], 'distances': {39238: 3, 77580: 2, 61472: 2, 45242: 3, 132445: 3, 44011: 2, 125345: 3, 120454: 2, 70618: 2, 58458: 3, 92552: 3, 10639: 3, 68320: 3, 30222: 3, 113138: 3, 109016: 2, 56117: 2}, 'degree': 1, 'marked': False, 'centrality': 0}, 61461: {'linked': [94138], 'distances': {39238: 3, 77580: 2, 61472: 2, 45242: 3, 132445: 3, 44011: 2, 125345: 3, 120454: 2, 70618: 2, 58458: 3, 92552: 3, 10639: 3, 68320: 3, 30222: 3, 113138: 3, 109016: 2, 56117: 2}, 'degree': 1, 'marked': False, 'centrality': 0}, 61472: {'linked': [94138], 'distances': {39238: 3, 77580: 2, 61472: 0, 45242: 3, 132445: 3, 44011: 2, 125345: 3, 120454: 2, 70618: 2, 58458: 3, 92552: 3, 10639: 3, 68320: 3, 30222: 3, 113138: 3, 109016: 2, 56117: 2}, 'degree': 1, 'marked': False, 'centrality': 2.50561797752809}, 61686: {'linked': [94138], 'distances': {39238: 3, 77580: 2, 61472: 2, 45242: 3, 132445: 3, 44011: 2, 125345: 3, 120454: 2, 70618: 2, 58458: 3, 92552: 3, 10639: 3, 68320: 3, 30222: 3, 113138: 3, 109016: 2, 56117: 2}, 'degree': 1, 'marked': False, 'centrality': 0}, 61929: {'linked': [94138], 'distances': {39238: 3, 77580: 2, 61472: 2, 45242: 3, 132445: 3, 44011: 2, 125345: 3, 120454: 2, 70618: 2, 58458: 3, 92552: 3, 10639: 3, 68320: 3, 30222: 3, 113138: 3, 109016: 2, 56117: 2}, 'degree': 1, 'marked': False, 'centrality': 0}, 62496: {'linked': [94138], 'distances': {39238: 3, 77580: 2, 61472: 2, 45242: 3, 132445: 3, 44011: 2, 125345: 3, 120454: 2, 70618: 2, 58458: 3, 92552: 3, 10639: 3, 68320: 3, 30222: 3, 113138: 3, 109016: 2, 56117: 2}, 'degree': 1, 'marked': False, 'centrality': 0}, 64054: {'linked': [94138], 'distances': {39238: 3, 77580: 2, 61472: 2, 45242: 3, 132445: 3, 44011: 2, 125345: 3, 120454: 2, 70618: 2, 58458: 3, 92552: 3, 10639: 3, 68320: 3, 30222: 3, 113138: 3, 109016: 2, 56117: 2}, 'degree': 1, 'marked': False, 'centrality': 0}, 65114: {'linked': [94138], 'distances': {39238: 3, 77580: 2, 61472: 2, 45242: 3, 132445: 3, 44011: 2, 125345: 3, 120454: 2, 70618: 2, 58458: 3, 92552: 3, 10639: 3, 68320: 3, 30222: 3, 113138: 3, 109016: 2, 56117: 2}, 'degree': 1, 'marked': False, 'centrality': 0}, 65794: {'linked': [94138], 'distances': {39238: 3, 77580: 2, 61472: 2, 45242: 3, 132445: 3, 44011: 2, 125345: 3, 120454: 2, 70618: 2, 58458: 3, 92552: 3, 10639: 3, 68320: 3, 30222: 3, 113138: 3, 109016: 2, 56117: 2}, 'degree': 1, 'marked': False, 'centrality': 0}, 66766: {'linked': [94138], 'distances': {39238: 3, 77580: 2, 61472: 2, 45242: 3, 132445: 3, 44011: 2, 125345: 3, 120454: 2, 70618: 2, 58458: 3, 92552: 3, 10639: 3, 68320: 3, 30222: 3, 113138: 3, 109016: 2, 56117: 2}, 'degree': 1, 'marked': False, 'centrality': 0}, 68639: {'linked': [94138], 'distances': {39238: 3, 77580: 2, 61472: 2, 45242: 3, 132445: 3, 44011: 2, 125345: 3, 120454: 2, 70618: 2, 58458: 3, 92552: 3, 10639: 3, 68320: 3, 30222: 3, 113138: 3, 109016: 2, 56117: 2}, 'degree': 1, 'marked': False, 'centrality': 0}, 69582: {'linked': [94138], 'distances': {39238: 3, 77580: 2, 61472: 2, 45242: 3, 132445: 3, 44011: 2, 125345: 3, 120454: 2, 70618: 2, 58458: 3, 92552: 3, 10639: 3, 68320: 3, 30222: 3, 113138: 3, 109016: 2, 56117: 2}, 'degree': 1, 'marked': False, 'centrality': 0}, 70618: {'linked': [94138], 'distances': {39238: 3, 77580: 2, 61472: 2, 45242: 3, 132445: 3, 44011: 2, 125345: 3, 120454: 2, 70618: 0, 58458: 3, 92552: 3, 10639: 3, 68320: 3, 30222: 3, 113138: 3, 109016: 2, 56117: 2}, 'degree': 1, 'marked': False, 'centrality': 2.50561797752809}, 72233: {'linked': [94138], 'distances': {39238: 3, 77580: 2, 61472: 2, 45242: 3, 132445: 3, 44011: 2, 125345: 3, 120454: 2, 70618: 2, 58458: 3, 92552: 3, 10639: 3, 68320: 3, 30222: 3, 113138: 3, 109016: 2, 56117: 2}, 'degree': 1, 'marked': False, 'centrality': 0}, 72941: {'linked': [94138], 'distances': {39238: 3, 77580: 2, 61472: 2, 45242: 3, 132445: 3, 44011: 2, 125345: 3, 120454: 2, 70618: 2, 58458: 3, 92552: 3, 10639: 3, 68320: 3, 30222: 3, 113138: 3, 109016: 2, 56117: 2}, 'degree': 1, 'marked': False, 'centrality': 0}, 74612: {'linked': [94138], 'distances': {39238: 3, 77580: 2, 61472: 2, 45242: 3, 132445: 3, 44011: 2, 125345: 3, 120454: 2, 70618: 2, 58458: 3, 92552: 3, 10639: 3, 68320: 3, 30222: 3, 113138: 3, 109016: 2, 56117: 2}, 'degree': 1, 'marked': False, 'centrality': 0}, 77580: {'linked': [94138], 'distances': {39238: 3, 77580: 0, 61472: 2, 45242: 3, 132445: 3, 44011: 2, 125345: 3, 120454: 2, 70618: 2, 58458: 3, 92552: 3, 10639: 3, 68320: 3, 30222: 3, 113138: 3, 109016: 2, 56117: 2}, 'degree': 1, 'marked': False, 'centrality': 2.50561797752809}, 79936: {'linked': [94138], 'distances': {39238: 3, 77580: 2, 61472: 2, 45242: 3, 132445: 3, 44011: 2, 125345: 3, 120454: 2, 70618: 2, 58458: 3, 92552: 3, 10639: 3, 68320: 3, 30222: 3, 113138: 3, 109016: 2, 56117: 2}, 'degree': 1, 'marked': False, 'centrality': 0}, 83003: {'linked': [94138], 'distances': {39238: 3, 77580: 2, 61472: 2, 45242: 3, 132445: 3, 44011: 2, 125345: 3, 120454: 2, 70618: 2, 58458: 3, 92552: 3, 10639: 3, 68320: 3, 30222: 3, 113138: 3, 109016: 2, 56117: 2}, 'degree': 1, 'marked': False, 'centrality': 0}, 84150: {'linked': [94138], 'distances': {39238: 3, 77580: 2, 61472: 2, 45242: 3, 132445: 3, 44011: 2, 125345: 3, 120454: 2, 70618: 2, 58458: 3, 92552: 3, 10639: 3, 68320: 3, 30222: 3, 113138: 3, 109016: 2, 56117: 2}, 'degree': 1, 'marked': False, 'centrality': 0}, 87214: {'linked': [94138], 'distances': {39238: 3, 77580: 2, 61472: 2, 45242: 3, 132445: 3, 44011: 2, 125345: 3, 120454: 2, 70618: 2, 58458: 3, 92552: 3, 10639: 3, 68320: 3, 30222: 3, 113138: 3, 109016: 2, 56117: 2}, 'degree': 1, 'marked': False, 'centrality': 0}, 87237: {'linked': [94138], 'distances': {39238: 3, 77580: 2, 61472: 2, 45242: 3, 132445: 3, 44011: 2, 125345: 3, 120454: 2, 70618: 2, 58458: 3, 92552: 3, 10639: 3, 68320: 3, 30222: 3, 113138: 3, 109016: 2, 56117: 2}, 'degree': 1, 'marked': False, 'centrality': 0}, 92504: {'linked': [94138], 'distances': {39238: 3, 77580: 2, 61472: 2, 45242: 3, 132445: 3, 44011: 2, 125345: 3, 120454: 2, 70618: 2, 58458: 3, 92552: 3, 10639: 3, 68320: 3, 30222: 3, 113138: 3, 109016: 2, 56117: 2}, 'degree': 1, 'marked': False, 'centrality': 0}, 94235: {'linked': [94138], 'distances': {39238: 3, 77580: 2, 61472: 2, 45242: 3, 132445: 3, 44011: 2, 125345: 3, 120454: 2, 70618: 2, 58458: 3, 92552: 3, 10639: 3, 68320: 3, 30222: 3, 113138: 3, 109016: 2, 56117: 2}, 'degree': 1, 'marked': False, 'centrality': 0}, 95822: {'linked': [94138], 'distances': {39238: 3, 77580: 2, 61472: 2, 45242: 3, 132445: 3, 44011: 2, 125345: 3, 120454: 2, 70618: 2, 58458: 3, 92552: 3, 10639: 3, 68320: 3, 30222: 3, 113138: 3, 109016: 2, 56117: 2}, 'degree': 1, 'marked': False, 'centrality': 0}, 101953: {'linked': [94138], 'distances': {39238: 3, 77580: 2, 61472: 2, 45242: 3, 132445: 3, 44011: 2, 125345: 3, 120454: 2, 70618: 2, 58458: 3, 92552: 3, 10639: 3, 68320: 3, 30222: 3, 113138: 3, 109016: 2, 56117: 2}, 'degree': 1, 'marked': False, 'centrality': 0}, 105827: {'linked': [94138], 'distances': {39238: 3, 77580: 2, 61472: 2, 45242: 3, 132445: 3, 44011: 2, 125345: 3, 120454: 2, 70618: 2, 58458: 3, 92552: 3, 10639: 3, 68320: 3, 30222: 3, 113138: 3, 109016: 2, 56117: 2}, 'degree': 1, 'marked': False, 'centrality': 0}, 110499: {'linked': [94138], 'distances': {39238: 3, 77580: 2, 61472: 2, 45242: 3, 132445: 3, 44011: 2, 125345: 3, 120454: 2, 70618: 2, 58458: 3, 92552: 3, 10639: 3, 68320: 3, 30222: 3, 113138: 3, 109016: 2, 56117: 2}, 'degree': 1, 'marked': False, 'centrality': 0}, 112243: {'linked': [94138], 'distances': {39238: 3, 77580: 2, 61472: 2, 45242: 3, 132445: 3, 44011: 2, 125345: 3, 120454: 2, 70618: 2, 58458: 3, 92552: 3, 10639: 3, 68320: 3, 30222: 3, 113138: 3, 109016: 2, 56117: 2}, 'degree': 1, 'marked': False, 'centrality': 0}, 115344: {'linked': [94138], 'distances': {39238: 3, 77580: 2, 61472: 2, 45242: 3, 132445: 3, 44011: 2, 125345: 3, 120454: 2, 70618: 2, 58458: 3, 92552: 3, 10639: 3, 68320: 3, 30222: 3, 113138: 3, 109016: 2, 56117: 2}, 'degree': 1, 'marked': False, 'centrality': 0}, 118103: {'linked': [94138], 'distances': {39238: 3, 77580: 2, 61472: 2, 45242: 3, 132445: 3, 44011: 2, 125345: 3, 120454: 2, 70618: 2, 58458: 3, 92552: 3, 10639: 3, 68320: 3, 30222: 3, 113138: 3, 109016: 2, 56117: 2}, 'degree': 1, 'marked': False, 'centrality': 0}, 118630: {'linked': [94138], 'distances': {39238: 3, 77580: 2, 61472: 2, 45242: 3, 132445: 3, 44011: 2, 125345: 3, 120454: 2, 70618: 2, 58458: 3, 92552: 3, 10639: 3, 68320: 3, 30222: 3, 113138: 3, 109016: 2, 56117: 2}, 'degree': 1, 'marked': False, 'centrality': 0}, 118958: {'linked': [94138], 'distances': {39238: 3, 77580: 2, 61472: 2, 45242: 3, 132445: 3, 44011: 2, 125345: 3, 120454: 2, 70618: 2, 58458: 3, 92552: 3, 10639: 3, 68320: 3, 30222: 3, 113138: 3, 109016: 2, 56117: 2}, 'degree': 1, 'marked': False, 'centrality': 0}, 120454: {'linked': [94138], 'distances': {39238: 3, 77580: 2, 61472: 2, 45242: 3, 132445: 3, 44011: 2, 125345: 3, 120454: 0, 70618: 2, 58458: 3, 92552: 3, 10639: 3, 68320: 3, 30222: 3, 113138: 3, 109016: 2, 56117: 2}, 'degree': 1, 'marked': False, 'centrality': 2.50561797752809}, 126152: {'linked': [94138], 'distances': {39238: 3, 77580: 2, 61472: 2, 45242: 3, 132445: 3, 44011: 2, 125345: 3, 120454: 2, 70618: 2, 58458: 3, 92552: 3, 10639: 3, 68320: 3, 30222: 3, 113138: 3, 109016: 2, 56117: 2}, 'degree': 1, 'marked': False, 'centrality': 0}, 130165: {'linked': [94138], 'distances': {39238: 3, 77580: 2, 61472: 2, 45242: 3, 132445: 3, 44011: 2, 125345: 3, 120454: 2, 70618: 2, 58458: 3, 92552: 3, 10639: 3, 68320: 3, 30222: 3, 113138: 3, 109016: 2, 56117: 2}, 'degree': 1, 'marked': False, 'centrality': 0}, 63225: {'linked': [2969, 8744, 19113, 20188, 23579, 26065, 27281, 30400], 'distances': {23579: 1}, 'degree': 8, 'marked': False, 'centrality': 0}, 2969: {'linked': [63225], 'distances': {23579: 2}, 'degree': 1, 'marked': False, 'centrality': 0}, 8744: {'linked': [63225], 'distances': {23579: 2}, 'degree': 1, 'marked': False, 'centrality': 0}, 19113: {'linked': [63225], 'distances': {23579: 2}, 'degree': 1, 'marked': False, 'centrality': 0}, 20188: {'linked': [63225], 'distances': {23579: 2}, 'degree': 1, 'marked': False, 'centrality': 0}, 23579: {'linked': [63225], 'distances': {23579: 0}, 'degree': 1, 'marked': False, 'centrality': 1.5}, 26065: {'linked': [63225], 'distances': {23579: 2}, 'degree': 1, 'marked': False, 'centrality': 0}, 27281: {'linked': [63225], 'distances': {23579: 2}, 'degree': 1, 'marked': False, 'centrality': 0}, 30400: {'linked': [63225], 'distances': {23579: 2}, 'degree': 1, 'marked': False, 'centrality': 0}}\n"
     ]
    }
   ],
   "source": [
    "print(data)"
   ]
  },
  {
   "cell_type": "code",
   "execution_count": 27,
   "id": "64caac42",
   "metadata": {},
   "outputs": [
    {
     "name": "stdout",
     "output_type": "stream",
     "text": [
      "{39238: 1, 77580: 2, 61472: 2, 45242: 1, 132445: 1, 44011: 2, 125345: 2, 120454: 2, 70618: 2, 58458: 1, 92552: 2, 10639: 1, 68320: 2, 30222: 1, 113138: 2, 109016: 1, 56117: 2}\n",
      "{39238: 3, 77580: 2, 61472: 2, 45242: 3, 132445: 3, 44011: 0, 125345: 3, 120454: 2, 70618: 2, 58458: 3, 92552: 3, 10639: 3, 68320: 3, 30222: 3, 113138: 3, 109016: 2, 56117: 2}\n"
     ]
    }
   ],
   "source": [
    "print(data[84424]['distances'])\n",
    "print(data[44011]['distances'])"
   ]
  },
  {
   "cell_type": "code",
   "execution_count": 25,
   "id": "0412f36b",
   "metadata": {},
   "outputs": [],
   "source": [
    "def shortest_path(source, stock, landmarks, data):\n",
    "    \"\"\"\n",
    "    Counts distance from source to stock using landmarks.\n",
    "    For distance estimation geometric mean is used.\n",
    "    \"\"\"\n",
    "    source_distances = data[source]['distances']\n",
    "    stock_distances = data[stock]['distances']\n",
    "    \n",
    "    L = 0\n",
    "    U = 3 * graph_size\n",
    "    for key, value in source_distances.items():\n",
    "        \n",
    "        temp = stock_distances.get(key, -1)\n",
    "        # cheks if there are distance from stock to 'key' landmark\n",
    "        if temp == -1:\n",
    "            continue\n",
    "        \n",
    "        l = abs(value - temp)\n",
    "        u = value + temp\n",
    "        \n",
    "        if l > L:\n",
    "            L = l\n",
    "        if u < U:\n",
    "            U = u\n",
    "            \n",
    "    return (L * U) ** 0.5"
   ]
  },
  {
   "cell_type": "code",
   "execution_count": 29,
   "id": "c5e2cfb7",
   "metadata": {},
   "outputs": [
    {
     "name": "stdout",
     "output_type": "stream",
     "text": [
      "2.0\n"
     ]
    }
   ],
   "source": [
    "print(shortest_path(84424, 276, landmarks, data))"
   ]
  },
  {
   "cell_type": "code",
   "execution_count": 28,
   "id": "7a258b3f",
   "metadata": {},
   "outputs": [
    {
     "name": "stdout",
     "output_type": "stream",
     "text": [
      "2\n"
     ]
    }
   ],
   "source": [
    "print(bfs(84424, 276, data))"
   ]
  },
  {
   "cell_type": "code",
   "execution_count": null,
   "id": "7ea39d74",
   "metadata": {},
   "outputs": [],
   "source": []
  }
 ],
 "metadata": {
  "kernelspec": {
   "display_name": "Python 3 (ipykernel)",
   "language": "python",
   "name": "python3"
  },
  "language_info": {
   "codemirror_mode": {
    "name": "ipython",
    "version": 3
   },
   "file_extension": ".py",
   "mimetype": "text/x-python",
   "name": "python",
   "nbconvert_exporter": "python",
   "pygments_lexer": "ipython3",
   "version": "3.8.10"
  }
 },
 "nbformat": 4,
 "nbformat_minor": 5
}
